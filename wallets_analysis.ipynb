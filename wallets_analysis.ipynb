{
 "cells": [
  {
   "cell_type": "code",
   "execution_count": 363,
   "metadata": {
    "scrolled": false
   },
   "outputs": [
    {
     "data": {
      "text/html": [
       "<div>\n",
       "<style scoped>\n",
       "    .dataframe tbody tr th:only-of-type {\n",
       "        vertical-align: middle;\n",
       "    }\n",
       "\n",
       "    .dataframe tbody tr th {\n",
       "        vertical-align: top;\n",
       "    }\n",
       "\n",
       "    .dataframe thead th {\n",
       "        text-align: right;\n",
       "    }\n",
       "</style>\n",
       "<table border=\"1\" class=\"dataframe\">\n",
       "  <thead>\n",
       "    <tr style=\"text-align: right;\">\n",
       "      <th></th>\n",
       "      <th>address_full</th>\n",
       "      <th>balance</th>\n",
       "      <th>percentage_coins</th>\n",
       "      <th>first_in</th>\n",
       "      <th>last_in</th>\n",
       "      <th>number_ins</th>\n",
       "      <th>first_out</th>\n",
       "      <th>last_out</th>\n",
       "      <th>number_outs</th>\n",
       "      <th>owner</th>\n",
       "      <th>address</th>\n",
       "      <th>type</th>\n",
       "    </tr>\n",
       "    <tr>\n",
       "      <th>ranking</th>\n",
       "      <th></th>\n",
       "      <th></th>\n",
       "      <th></th>\n",
       "      <th></th>\n",
       "      <th></th>\n",
       "      <th></th>\n",
       "      <th></th>\n",
       "      <th></th>\n",
       "      <th></th>\n",
       "      <th></th>\n",
       "      <th></th>\n",
       "      <th></th>\n",
       "    </tr>\n",
       "  </thead>\n",
       "  <tbody>\n",
       "    <tr>\n",
       "      <th>1</th>\n",
       "      <td>34xp4vRoCGJym3xR7yCVPFHoCNxv4Twseo  Binance-co...</td>\n",
       "      <td>173306.0</td>\n",
       "      <td>0.9620%</td>\n",
       "      <td>2018-10-18 12:59:18 UTC</td>\n",
       "      <td>2019-10-26 12:23:51 UTC</td>\n",
       "      <td>283</td>\n",
       "      <td>2018-10-18 13:19:26 UTC</td>\n",
       "      <td>2019-09-12 01:50:01 UTC</td>\n",
       "      <td>188.0</td>\n",
       "      <td>Binance-coldwallet</td>\n",
       "      <td>34xp4vRoCGJym3xR7yCVPFHoCNxv4Twseo</td>\n",
       "      <td>EXCHANGE</td>\n",
       "    </tr>\n",
       "    <tr>\n",
       "      <th>2</th>\n",
       "      <td>35hK24tcLEWcgNA4JxpvbkNkoAcDGqQPsP 3-of-7  Huo...</td>\n",
       "      <td>151001.0</td>\n",
       "      <td>0.8382%</td>\n",
       "      <td>2019-01-25 09:43:53 UTC</td>\n",
       "      <td>2019-10-24 07:16:53 UTC</td>\n",
       "      <td>69</td>\n",
       "      <td>2019-01-25 09:58:54 UTC</td>\n",
       "      <td>2019-10-24 07:16:53 UTC</td>\n",
       "      <td>9.0</td>\n",
       "      <td>Huobi-coldwallet</td>\n",
       "      <td>35hK24tcLEWcgNA4JxpvbkNkoAcDGqQPsP</td>\n",
       "      <td>EXCHANGE</td>\n",
       "    </tr>\n",
       "    <tr>\n",
       "      <th>3</th>\n",
       "      <td>385cR5DM96n1HvBDMzLHPYcw89fZAXULJP  Bittrex-co...</td>\n",
       "      <td>117305.0</td>\n",
       "      <td>0.6512%</td>\n",
       "      <td>2018-12-21 01:16:25 UTC</td>\n",
       "      <td>2019-10-17 21:34:42 UTC</td>\n",
       "      <td>67</td>\n",
       "      <td>2019-01-09 22:58:55 UTC</td>\n",
       "      <td>2019-10-17 21:34:42 UTC</td>\n",
       "      <td>42.0</td>\n",
       "      <td>Bittrex-coldwallet</td>\n",
       "      <td>385cR5DM96n1HvBDMzLHPYcw89fZAXULJP</td>\n",
       "      <td>EXCHANGE</td>\n",
       "    </tr>\n",
       "    <tr>\n",
       "      <th>4</th>\n",
       "      <td>3CgKHXR17eh2xCj2RGnHJHTDjPpqaNDgyT 2-of-3</td>\n",
       "      <td>111858.0</td>\n",
       "      <td>0.6209%</td>\n",
       "      <td>2019-09-17 12:22:36 UTC</td>\n",
       "      <td>2019-10-15 07:00:10 UTC</td>\n",
       "      <td>4</td>\n",
       "      <td>2019-09-18 17:28:23 UTC</td>\n",
       "      <td>2019-09-18 17:28:23 UTC</td>\n",
       "      <td>1.0</td>\n",
       "      <td>unknown</td>\n",
       "      <td>3CgKHXR17eh2xCj2RGnHJHTDjPpqaNDgyT</td>\n",
       "      <td>WHALE</td>\n",
       "    </tr>\n",
       "    <tr>\n",
       "      <th>5</th>\n",
       "      <td>37XuVSEpWW4trkfmvWzegTHQt7BdktSKUs</td>\n",
       "      <td>94506.0</td>\n",
       "      <td>0.5246%</td>\n",
       "      <td>2019-09-06 03:30:05 UTC</td>\n",
       "      <td>2019-10-16 16:30:42 UTC</td>\n",
       "      <td>42</td>\n",
       "      <td>NaN</td>\n",
       "      <td>NaN</td>\n",
       "      <td>NaN</td>\n",
       "      <td>unknown</td>\n",
       "      <td>37XuVSEpWW4trkfmvWzegTHQt7BdktSKUs</td>\n",
       "      <td>WHALE</td>\n",
       "    </tr>\n",
       "  </tbody>\n",
       "</table>\n",
       "</div>"
      ],
      "text/plain": [
       "                                              address_full   balance  \\\n",
       "ranking                                                                \n",
       "1        34xp4vRoCGJym3xR7yCVPFHoCNxv4Twseo  Binance-co...  173306.0   \n",
       "2        35hK24tcLEWcgNA4JxpvbkNkoAcDGqQPsP 3-of-7  Huo...  151001.0   \n",
       "3        385cR5DM96n1HvBDMzLHPYcw89fZAXULJP  Bittrex-co...  117305.0   \n",
       "4                3CgKHXR17eh2xCj2RGnHJHTDjPpqaNDgyT 2-of-3  111858.0   \n",
       "5                       37XuVSEpWW4trkfmvWzegTHQt7BdktSKUs   94506.0   \n",
       "\n",
       "        percentage_coins                 first_in                  last_in  \\\n",
       "ranking                                                                      \n",
       "1                0.9620%  2018-10-18 12:59:18 UTC  2019-10-26 12:23:51 UTC   \n",
       "2                0.8382%  2019-01-25 09:43:53 UTC  2019-10-24 07:16:53 UTC   \n",
       "3                0.6512%  2018-12-21 01:16:25 UTC  2019-10-17 21:34:42 UTC   \n",
       "4                0.6209%  2019-09-17 12:22:36 UTC  2019-10-15 07:00:10 UTC   \n",
       "5                0.5246%  2019-09-06 03:30:05 UTC  2019-10-16 16:30:42 UTC   \n",
       "\n",
       "         number_ins                first_out                 last_out  \\\n",
       "ranking                                                                 \n",
       "1               283  2018-10-18 13:19:26 UTC  2019-09-12 01:50:01 UTC   \n",
       "2                69  2019-01-25 09:58:54 UTC  2019-10-24 07:16:53 UTC   \n",
       "3                67  2019-01-09 22:58:55 UTC  2019-10-17 21:34:42 UTC   \n",
       "4                 4  2019-09-18 17:28:23 UTC  2019-09-18 17:28:23 UTC   \n",
       "5                42                      NaN                      NaN   \n",
       "\n",
       "         number_outs               owner                             address  \\\n",
       "ranking                                                                        \n",
       "1              188.0  Binance-coldwallet  34xp4vRoCGJym3xR7yCVPFHoCNxv4Twseo   \n",
       "2                9.0    Huobi-coldwallet  35hK24tcLEWcgNA4JxpvbkNkoAcDGqQPsP   \n",
       "3               42.0  Bittrex-coldwallet  385cR5DM96n1HvBDMzLHPYcw89fZAXULJP   \n",
       "4                1.0             unknown  3CgKHXR17eh2xCj2RGnHJHTDjPpqaNDgyT   \n",
       "5                NaN             unknown  37XuVSEpWW4trkfmvWzegTHQt7BdktSKUs   \n",
       "\n",
       "             type  \n",
       "ranking            \n",
       "1        EXCHANGE  \n",
       "2        EXCHANGE  \n",
       "3        EXCHANGE  \n",
       "4           WHALE  \n",
       "5           WHALE  "
      ]
     },
     "execution_count": 363,
     "metadata": {},
     "output_type": "execute_result"
    }
   ],
   "source": [
    "import pandas as pd\n",
    "import numpy as np\n",
    "\n",
    "file = \"wallets_cleaned.csv\"\n",
    "df = pd.read_csv(file)\n",
    "df = df.set_index('ranking')\n",
    "\n",
    "df.head()"
   ]
  },
  {
   "cell_type": "code",
   "execution_count": 2,
   "metadata": {},
   "outputs": [
    {
     "data": {
      "text/plain": [
       "977.9465"
      ]
     },
     "execution_count": 2,
     "metadata": {},
     "output_type": "execute_result"
    }
   ],
   "source": [
    "np.mean(df[\"number_ins\"])"
   ]
  },
  {
   "cell_type": "code",
   "execution_count": 3,
   "metadata": {},
   "outputs": [
    {
     "data": {
      "text/html": [
       "<div>\n",
       "<style scoped>\n",
       "    .dataframe tbody tr th:only-of-type {\n",
       "        vertical-align: middle;\n",
       "    }\n",
       "\n",
       "    .dataframe tbody tr th {\n",
       "        vertical-align: top;\n",
       "    }\n",
       "\n",
       "    .dataframe thead th {\n",
       "        text-align: right;\n",
       "    }\n",
       "</style>\n",
       "<table border=\"1\" class=\"dataframe\">\n",
       "  <thead>\n",
       "    <tr style=\"text-align: right;\">\n",
       "      <th></th>\n",
       "      <th>balance</th>\n",
       "      <th>number_ins</th>\n",
       "      <th>number_outs</th>\n",
       "    </tr>\n",
       "  </thead>\n",
       "  <tbody>\n",
       "    <tr>\n",
       "      <th>count</th>\n",
       "      <td>10000.000000</td>\n",
       "      <td>1.000000e+04</td>\n",
       "      <td>2.282000e+03</td>\n",
       "    </tr>\n",
       "    <tr>\n",
       "      <th>mean</th>\n",
       "      <td>1034.455297</td>\n",
       "      <td>9.779465e+02</td>\n",
       "      <td>3.408133e+03</td>\n",
       "    </tr>\n",
       "    <tr>\n",
       "      <th>std</th>\n",
       "      <td>4087.687573</td>\n",
       "      <td>3.478835e+04</td>\n",
       "      <td>5.280759e+04</td>\n",
       "    </tr>\n",
       "    <tr>\n",
       "      <th>min</th>\n",
       "      <td>159.740000</td>\n",
       "      <td>1.000000e+00</td>\n",
       "      <td>1.000000e+00</td>\n",
       "    </tr>\n",
       "    <tr>\n",
       "      <th>25%</th>\n",
       "      <td>219.000000</td>\n",
       "      <td>2.000000e+00</td>\n",
       "      <td>2.000000e+00</td>\n",
       "    </tr>\n",
       "    <tr>\n",
       "      <th>50%</th>\n",
       "      <td>356.015000</td>\n",
       "      <td>4.000000e+00</td>\n",
       "      <td>1.000000e+01</td>\n",
       "    </tr>\n",
       "    <tr>\n",
       "      <th>75%</th>\n",
       "      <td>829.392500</td>\n",
       "      <td>8.000000e+00</td>\n",
       "      <td>8.775000e+01</td>\n",
       "    </tr>\n",
       "    <tr>\n",
       "      <th>max</th>\n",
       "      <td>173306.000000</td>\n",
       "      <td>3.089605e+06</td>\n",
       "      <td>2.104419e+06</td>\n",
       "    </tr>\n",
       "  </tbody>\n",
       "</table>\n",
       "</div>"
      ],
      "text/plain": [
       "             balance    number_ins   number_outs\n",
       "count   10000.000000  1.000000e+04  2.282000e+03\n",
       "mean     1034.455297  9.779465e+02  3.408133e+03\n",
       "std      4087.687573  3.478835e+04  5.280759e+04\n",
       "min       159.740000  1.000000e+00  1.000000e+00\n",
       "25%       219.000000  2.000000e+00  2.000000e+00\n",
       "50%       356.015000  4.000000e+00  1.000000e+01\n",
       "75%       829.392500  8.000000e+00  8.775000e+01\n",
       "max    173306.000000  3.089605e+06  2.104419e+06"
      ]
     },
     "execution_count": 3,
     "metadata": {},
     "output_type": "execute_result"
    }
   ],
   "source": [
    "df.describe()"
   ]
  },
  {
   "cell_type": "code",
   "execution_count": 315,
   "metadata": {},
   "outputs": [],
   "source": [
    "df = df[df['balance'] < 5000]\n",
    "df = df[df['number_ins'] < 50000]\n",
    "df = df[df['number_outs'] < 50000]\n",
    "\n",
    "\n",
    "\n",
    "df_unknown = df[(df['owner'] == 'unknown')]\n",
    "df_known = df[(df['owner'] != 'unknown')]"
   ]
  },
  {
   "cell_type": "code",
   "execution_count": 309,
   "metadata": {},
   "outputs": [
    {
     "data": {
      "text/plain": [
       "\"\\ndf_known.describe()\\nplt.plot(df_unknown['balance'])\\nplt.show()\""
      ]
     },
     "execution_count": 309,
     "metadata": {},
     "output_type": "execute_result"
    },
    {
     "data": {
      "image/png": "[encoded data removed]",
      "text/plain": [
       "<Figure size 432x288 with 1 Axes>"
      ]
     },
     "metadata": {
      "needs_background": "light"
     },
     "output_type": "display_data"
    }
   ],
   "source": [
    "df_known.describe()\n",
    "\n",
    "tmp1 = df_unknown[df_unknown['balance'] < 1000]\n",
    "tmp2 = df_known[df_known['balance'] < 1000]\n",
    "plt.plot(tmp1['balance'], 'r')\n",
    "plt.plot(tmp2['balance'], 'b')\n",
    "\n",
    "#plt.plot(df_unknown['balance'] < 10000, 'r')\n",
    "#plt.plot(df_known['balance'] < 10000, 'b')\n",
    "\n",
    "#plt.show()\n",
    "\"\"\"\n",
    "df_known.describe()\n",
    "plt.plot(df_unknown['balance'])\n",
    "plt.show()\"\"\""
   ]
  },
  {
   "cell_type": "code",
   "execution_count": 312,
   "metadata": {},
   "outputs": [
    {
     "data": {
      "image/png": "[encoded data removed]",
      "text/plain": [
       "<Figure size 432x288 with 1 Axes>"
      ]
     },
     "metadata": {
      "needs_background": "light"
     },
     "output_type": "display_data"
    }
   ],
   "source": [
    "df_known.describe()\n",
    "plt.plot(df_known['number_ins'], 'b')\n",
    "plt.plot(df_unknown['number_ins'], 'r')\n",
    "plt.show()"
   ]
  },
  {
   "cell_type": "code",
   "execution_count": 316,
   "metadata": {},
   "outputs": [
    {
     "data": {
      "image/png": "[encoded data removed]",
      "text/plain": [
       "<Figure size 432x288 with 1 Axes>"
      ]
     },
     "metadata": {
      "needs_background": "light"
     },
     "output_type": "display_data"
    }
   ],
   "source": [
    "df_known.describe()\n",
    "plt.plot(df_known['number_outs'], 'b')\n",
    "plt.plot(df_unknown['number_outs'], 'r')\n",
    "plt.show()"
   ]
  },
  {
   "cell_type": "code",
   "execution_count": 317,
   "metadata": {
    "scrolled": true
   },
   "outputs": [
    {
     "data": {
      "image/png": "[encoded data removed]",
      "text/plain": [
       "<Figure size 432x288 with 1 Axes>"
      ]
     },
     "metadata": {
      "needs_background": "light"
     },
     "output_type": "display_data"
    }
   ],
   "source": [
    "import matplotlib.pyplot as plt\n",
    "\n",
    "plt.hist(df['balance'])\n",
    "plt.show()\n",
    "\n"
   ]
  },
  {
   "cell_type": "code",
   "execution_count": 319,
   "metadata": {
    "scrolled": true
   },
   "outputs": [
    {
     "data": {
      "image/png": "[encoded data removed]",
      "text/plain": [
       "<Figure size 432x288 with 1 Axes>"
      ]
     },
     "metadata": {
      "needs_background": "light"
     },
     "output_type": "display_data"
    },
    {
     "data": {
      "image/png": "[encoded data removed]",
      "text/plain": [
       "<Figure size 432x288 with 1 Axes>"
      ]
     },
     "metadata": {
      "needs_background": "light"
     },
     "output_type": "display_data"
    },
    {
     "data": {
      "image/png": "[encoded data removed]",
      "text/plain": [
       "<Figure size 432x288 with 1 Axes>"
      ]
     },
     "metadata": {
      "needs_background": "light"
     },
     "output_type": "display_data"
    }
   ],
   "source": [
    "plt.boxplot(df['balance'], showfliers=False)\n",
    "plt.show()\n",
    "\n",
    "plt.boxplot(df['number_ins'], showfliers=False)\n",
    "plt.show()\n",
    "\n",
    "plt.boxplot(df['number_outs'].dropna(), showfliers=False)\n",
    "plt.show()\n"
   ]
  },
  {
   "cell_type": "code",
   "execution_count": 321,
   "metadata": {},
   "outputs": [
    {
     "name": "stdout",
     "output_type": "stream",
     "text": [
      "traders having more outs than  100000\n",
      "number of traders having more outs than  100000 :  0\n"
     ]
    },
    {
     "data": {
      "image/png": "[encoded data removed]",
      "text/plain": [
       "<Figure size 432x288 with 1 Axes>"
      ]
     },
     "metadata": {
      "needs_background": "light"
     },
     "output_type": "display_data"
    },
    {
     "name": "stdout",
     "output_type": "stream",
     "text": [
      "known owners having more outs than  100000\n",
      "numbers of known owners having mor eouts than  100000 :  0\n"
     ]
    },
    {
     "data": {
      "image/png": "[encoded data removed]",
      "text/plain": [
       "<Figure size 432x288 with 1 Axes>"
      ]
     },
     "metadata": {
      "needs_background": "light"
     },
     "output_type": "display_data"
    },
    {
     "name": "stdout",
     "output_type": "stream",
     "text": [
      "unknown owners having more outs than  100000\n",
      "numbers of unknown owners having mor eouts than  100000 :  0\n"
     ]
    },
    {
     "data": {
      "image/png": "[encoded data removed]",
      "text/plain": [
       "<Figure size 432x288 with 1 Axes>"
      ]
     },
     "metadata": {
      "needs_background": "light"
     },
     "output_type": "display_data"
    },
    {
     "name": "stdout",
     "output_type": "stream",
     "text": [
      "number of exchanges:  528\n",
      "number of whales:  32\n",
      "number of big fish:  1611\n"
     ]
    }
   ],
   "source": [
    "thres = 100000\n",
    "print('traders having more outs than ',thres)\n",
    "print('number of traders having more outs than ', thres,': ', sum(df['number_outs'] > thres))\n",
    "plt.plot(df['number_outs'] > thres) #mehr als thres ausgangszahlungen\n",
    "plt.show()\n",
    "\n",
    "print('known owners having more outs than ', thres)\n",
    "print('numbers of known owners having mor eouts than ', thres,': ', sum(df_known['number_outs'] > thres))\n",
    "plt.plot(df_known['number_outs'] > thres)\n",
    "plt.show()\n",
    "\n",
    "print('unknown owners having more outs than ', thres)\n",
    "print('numbers of unknown owners having mor eouts than ', thres,': ', sum(df_unknown['number_outs'] > thres))\n",
    "plt.plot(df_unknown['number_outs'] > thres)\n",
    "plt.show()\n",
    "\n",
    "print('number of exchanges: ',sum(df['type']=='EXCHANGE'))\n",
    "print('number of whales: ',sum(df['type']=='WHALE'))\n",
    "print('number of big fish: ',sum(df['type']=='BIG_FISH'))"
   ]
  },
  {
   "cell_type": "code",
   "execution_count": 389,
   "metadata": {},
   "outputs": [
    {
     "name": "stdout",
     "output_type": "stream",
     "text": [
      "Int64Index([34, 37, 32, 37, 37, 35,  7, 29, 12, 39,\n",
      "            ...\n",
      "            33, 33, 38, 33, 39, 33, 28, 28, 30,  5],\n",
      "           dtype='int64', length=10000)\n"
     ]
    },
    {
     "data": {
      "text/plain": [
       "[<matplotlib.lines.Line2D at 0x18e9d8d9e10>]"
      ]
     },
     "execution_count": 389,
     "metadata": {},
     "output_type": "execute_result"
    },
    {
     "data": {
      "image/png": "[encoded data removed]",
      "text/plain": [
       "<Figure size 432x288 with 1 Axes>"
      ]
     },
     "metadata": {
      "needs_background": "light"
     },
     "output_type": "display_data"
    }
   ],
   "source": [
    "dates = []\n",
    "for x in df['first_in']:\n",
    "    #print(str.split(x))\n",
    "    dates.append(str.split(x)[0])\n",
    "    \n",
    "#plt.plot(dates)  \n",
    "dates = pd.to_datetime(dates)\n",
    "\n",
    "\n",
    "period = (dates.year-2010) * 4 + (dates.month % 4)\n",
    "print(period)\n",
    "\n",
    "\n",
    "df['period'] = period\n",
    "df_sorted = df.sort_values(by=['period'])\n",
    "plt.plot(df_sorted['period'])\n",
    "\n",
    "#tmp = df.groupby(pd.PeriodIndex(dates, freq='Q'))\n",
    "\n",
    "\n",
    "\n",
    "#quartal aggregieren\n",
    "#plot first in / last in \n",
    "#plt first out / last out\n",
    "\n",
    "#sort walles by date"
   ]
  },
  {
   "cell_type": "code",
   "execution_count": 369,
   "metadata": {},
   "outputs": [
    {
     "ename": "TypeError",
     "evalue": "descriptor 'split' requires a 'str' object but received a 'Series'",
     "output_type": "error",
     "traceback": [
      "\u001b[1;31m---------------------------------------------------------------------------\u001b[0m",
      "\u001b[1;31mTypeError\u001b[0m                                 Traceback (most recent call last)",
      "\u001b[1;32m<ipython-input-369-c27fda1175b5>\u001b[0m in \u001b[0;36m<module>\u001b[1;34m\u001b[0m\n\u001b[0;32m      1\u001b[0m \u001b[1;31m#tmp = df.groupby(pd.PeriodIndex(df.balance, freq='Q'))\u001b[0m\u001b[1;33m\u001b[0m\u001b[1;33m\u001b[0m\u001b[1;33m\u001b[0m\u001b[0m\n\u001b[0;32m      2\u001b[0m \u001b[1;31m#df.groupby(pd.Grouper(freq='M'))\u001b[0m\u001b[1;33m\u001b[0m\u001b[1;33m\u001b[0m\u001b[1;33m\u001b[0m\u001b[0m\n\u001b[1;32m----> 3\u001b[1;33m \u001b[0mdates\u001b[0m \u001b[1;33m=\u001b[0m \u001b[0mpd\u001b[0m\u001b[1;33m.\u001b[0m\u001b[0mto_datetime\u001b[0m\u001b[1;33m(\u001b[0m\u001b[0mdf\u001b[0m\u001b[1;33m[\u001b[0m\u001b[1;34m'first_in'\u001b[0m\u001b[1;33m]\u001b[0m\u001b[1;33m.\u001b[0m\u001b[0miloc\u001b[0m\u001b[1;33m(\u001b[0m\u001b[0mstr\u001b[0m\u001b[1;33m.\u001b[0m\u001b[0msplit\u001b[0m\u001b[1;33m(\u001b[0m\u001b[0mdf\u001b[0m\u001b[1;33m[\u001b[0m\u001b[1;34m'first_in'\u001b[0m\u001b[1;33m]\u001b[0m\u001b[1;33m)\u001b[0m\u001b[1;33m)\u001b[0m\u001b[1;33m)\u001b[0m\u001b[1;33m\u001b[0m\u001b[1;33m\u001b[0m\u001b[0m\n\u001b[0m\u001b[0;32m      4\u001b[0m \u001b[1;31m#df.groupby(by=[first_in.month])\u001b[0m\u001b[1;33m\u001b[0m\u001b[1;33m\u001b[0m\u001b[1;33m\u001b[0m\u001b[0m\n",
      "\u001b[1;31mTypeError\u001b[0m: descriptor 'split' requires a 'str' object but received a 'Series'"
     ]
    }
   ],
   "source": [
    "#tmp = df.groupby(pd.PeriodIndex(df.balance, freq='Q'))\n",
    "#df.groupby(pd.Grouper(freq='M'))\n",
    "dates = pd.to_datetime(df['first_in'].iloc(str.split(df['first_in'])))\n",
    "#df.groupby(by=[first_in.month])"
   ]
  },
  {
   "cell_type": "code",
   "execution_count": 118,
   "metadata": {},
   "outputs": [
    {
     "data": {
      "text/html": [
       "<div>\n",
       "<style scoped>\n",
       "    .dataframe tbody tr th:only-of-type {\n",
       "        vertical-align: middle;\n",
       "    }\n",
       "\n",
       "    .dataframe tbody tr th {\n",
       "        vertical-align: top;\n",
       "    }\n",
       "\n",
       "    .dataframe thead th {\n",
       "        text-align: right;\n",
       "    }\n",
       "</style>\n",
       "<table border=\"1\" class=\"dataframe\">\n",
       "  <thead>\n",
       "    <tr style=\"text-align: right;\">\n",
       "      <th></th>\n",
       "      <th>address_full</th>\n",
       "      <th>balance</th>\n",
       "      <th>percentage_coins</th>\n",
       "      <th>first_in</th>\n",
       "      <th>last_in</th>\n",
       "      <th>number_ins</th>\n",
       "      <th>first_out</th>\n",
       "      <th>last_out</th>\n",
       "      <th>number_outs</th>\n",
       "      <th>owner</th>\n",
       "      <th>address</th>\n",
       "      <th>type</th>\n",
       "    </tr>\n",
       "    <tr>\n",
       "      <th>ranking</th>\n",
       "      <th></th>\n",
       "      <th></th>\n",
       "      <th></th>\n",
       "      <th></th>\n",
       "      <th></th>\n",
       "      <th></th>\n",
       "      <th></th>\n",
       "      <th></th>\n",
       "      <th></th>\n",
       "      <th></th>\n",
       "      <th></th>\n",
       "      <th></th>\n",
       "    </tr>\n",
       "  </thead>\n",
       "  <tbody>\n",
       "    <tr>\n",
       "      <th>2506</th>\n",
       "      <td>1HckjUpRGcrrRAtFaaCAUaGjsPx9oYmLaZ  Huobi-wallet</td>\n",
       "      <td>824.62</td>\n",
       "      <td>0.0045775826770225%</td>\n",
       "      <td>2017-10-28 11:35:54 UTC</td>\n",
       "      <td>2019-10-26 14:27:13 UTC</td>\n",
       "      <td>3089605</td>\n",
       "      <td>2017-10-29 03:09:59 UTC</td>\n",
       "      <td>2019-10-26 14:27:13 UTC</td>\n",
       "      <td>2104419.0</td>\n",
       "      <td>Huobi-wallet</td>\n",
       "      <td>1HckjUpRGcrrRAtFaaCAUaGjsPx9oYmLaZ</td>\n",
       "      <td>EXCHANGE</td>\n",
       "    </tr>\n",
       "    <tr>\n",
       "      <th>2953</th>\n",
       "      <td>17kb7c9ndg7ioSuzMWEHWECdEVUegNkcGc  52742716</td>\n",
       "      <td>657.95</td>\n",
       "      <td>0.0036523495069502%</td>\n",
       "      <td>2017-10-17 00:41:07 UTC</td>\n",
       "      <td>2019-10-26 14:27:13 UTC</td>\n",
       "      <td>581424</td>\n",
       "      <td>2017-10-17 00:41:07 UTC</td>\n",
       "      <td>2019-10-26 14:27:13 UTC</td>\n",
       "      <td>528276.0</td>\n",
       "      <td>unknown</td>\n",
       "      <td>17kb7c9ndg7ioSuzMWEHWECdEVUegNkcGc</td>\n",
       "      <td>EXCHANGE</td>\n",
       "    </tr>\n",
       "    <tr>\n",
       "      <th>6257</th>\n",
       "      <td>1G47mSr3oANXMafVrR8UC4pzV7FEAzo3r9</td>\n",
       "      <td>278.27</td>\n",
       "      <td>0.0015447263961717%</td>\n",
       "      <td>2018-04-21 22:42:40 UTC</td>\n",
       "      <td>2019-10-26 14:27:13 UTC</td>\n",
       "      <td>899120</td>\n",
       "      <td>2018-04-21 23:11:22 UTC</td>\n",
       "      <td>2019-10-26 14:08:59 UTC</td>\n",
       "      <td>898696.0</td>\n",
       "      <td>unknown</td>\n",
       "      <td>1G47mSr3oANXMafVrR8UC4pzV7FEAzo3r9</td>\n",
       "      <td>EXCHANGE</td>\n",
       "    </tr>\n",
       "  </tbody>\n",
       "</table>\n",
       "</div>"
      ],
      "text/plain": [
       "                                             address_full  balance  \\\n",
       "ranking                                                              \n",
       "2506     1HckjUpRGcrrRAtFaaCAUaGjsPx9oYmLaZ  Huobi-wallet   824.62   \n",
       "2953         17kb7c9ndg7ioSuzMWEHWECdEVUegNkcGc  52742716   657.95   \n",
       "6257                   1G47mSr3oANXMafVrR8UC4pzV7FEAzo3r9   278.27   \n",
       "\n",
       "            percentage_coins                 first_in  \\\n",
       "ranking                                                 \n",
       "2506     0.0045775826770225%  2017-10-28 11:35:54 UTC   \n",
       "2953     0.0036523495069502%  2017-10-17 00:41:07 UTC   \n",
       "6257     0.0015447263961717%  2018-04-21 22:42:40 UTC   \n",
       "\n",
       "                         last_in  number_ins                first_out  \\\n",
       "ranking                                                                 \n",
       "2506     2019-10-26 14:27:13 UTC     3089605  2017-10-29 03:09:59 UTC   \n",
       "2953     2019-10-26 14:27:13 UTC      581424  2017-10-17 00:41:07 UTC   \n",
       "6257     2019-10-26 14:27:13 UTC      899120  2018-04-21 23:11:22 UTC   \n",
       "\n",
       "                        last_out  number_outs         owner  \\\n",
       "ranking                                                       \n",
       "2506     2019-10-26 14:27:13 UTC    2104419.0  Huobi-wallet   \n",
       "2953     2019-10-26 14:27:13 UTC     528276.0       unknown   \n",
       "6257     2019-10-26 14:08:59 UTC     898696.0       unknown   \n",
       "\n",
       "                                    address      type  \n",
       "ranking                                                \n",
       "2506     1HckjUpRGcrrRAtFaaCAUaGjsPx9oYmLaZ  EXCHANGE  \n",
       "2953     17kb7c9ndg7ioSuzMWEHWECdEVUegNkcGc  EXCHANGE  \n",
       "6257     1G47mSr3oANXMafVrR8UC4pzV7FEAzo3r9  EXCHANGE  "
      ]
     },
     "execution_count": 118,
     "metadata": {},
     "output_type": "execute_result"
    }
   ],
   "source": [
    "new = df['number_outs'] > 500000\n",
    "df[new]"
   ]
  },
  {
   "cell_type": "code",
   "execution_count": 237,
   "metadata": {},
   "outputs": [
    {
     "name": "stdout",
     "output_type": "stream",
     "text": [
      "<class 'list'>\n",
      "0.6626609982516225\n"
     ]
    },
    {
     "data": {
      "image/png": "[encoded data removed]",
      "text/plain": [
       "<Figure size 432x288 with 1 Axes>"
      ]
     },
     "metadata": {
      "needs_background": "light"
     },
     "output_type": "display_data"
    }
   ],
   "source": [
    "import numpy as np\n",
    "import matplotlib.pyplot as plt\n",
    "\n",
    "# ensure your arr is sorted from lowest to highest values first!\n",
    "\n",
    "\n",
    "def gini(arr):\n",
    "    count = len(arr) ##\n",
    "    coefficient = 2 / count\n",
    "    indexes = np.arange(1, count + 1)\n",
    "    weighted_sum = (indexes * arr).sum()\n",
    "    total = sum(arr)\n",
    "    constant = (count + 1) / count\n",
    "    return coefficient * weighted_sum / total - constant\n",
    "\n",
    "def lorenz(arr):\n",
    "    # this divides the prefix sum by the total sum\n",
    "    # this ensures all the values are between 0 and 1.0\n",
    "    scaled_prefix_sum = np.cumsum(arr) / sum(arr)\n",
    "    # this prepends the 0 value (because 0% of all people have 0% of all wealth)\n",
    "    return np.insert(scaled_prefix_sum, 0, 0)\n",
    "\n",
    "arr= list(np.sort(df['balance']))\n",
    "print(type(arr))\n",
    "\n",
    "# show the gini index!\n",
    "print(gini(arr))\n",
    "\n",
    "lorenz_curve = lorenz(arr)\n",
    "\n",
    "# we need the X values to be between 0.0 to 1.0\n",
    "plt.plot(np.linspace(0.0, 1.0, lorenz_curve.size), lorenz_curve)\n",
    "# plot the straight line perfect equality curve\n",
    "plt.plot([0,1], [0,1])\n",
    "plt.show()"
   ]
  },
  {
   "cell_type": "code",
   "execution_count": null,
   "metadata": {},
   "outputs": [],
   "source": [
    "# calculate the Euclidean distance between two vectors\n",
    "def euclidean_distance(row1, row2):\n",
    "    distance = 0.0\n",
    "    for i in range(len(row1)-1):\n",
    "        distance += (row1[i] - row2[i])**2\n",
    "    return sqrt(distance)"
   ]
  },
  {
   "cell_type": "code",
   "execution_count": null,
   "metadata": {},
   "outputs": [],
   "source": []
  }
 ],
 "metadata": {
  "kernelspec": {
   "display_name": "Python 3",
   "language": "python",
   "name": "python3"
  },
  "language_info": {
   "codemirror_mode": {
    "name": "ipython",
    "version": 3
   },
   "file_extension": ".py",
   "mimetype": "text/x-python",
   "name": "python",
   "nbconvert_exporter": "python",
   "pygments_lexer": "ipython3",
   "version": "3.7.3"
  }
 },
 "nbformat": 4,
 "nbformat_minor": 2
}
