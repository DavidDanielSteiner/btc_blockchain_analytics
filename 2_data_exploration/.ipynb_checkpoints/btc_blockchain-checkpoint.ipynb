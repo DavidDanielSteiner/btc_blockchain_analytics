{
 "cells": [
  {
   "cell_type": "code",
   "execution_count": null,
   "metadata": {
    "_cell_guid": "5cdac17e-851f-418b-bc1a-520094c4d100",
    "_kg_hide-input": true,
    "_uuid": "2624e10a53e2825c0736a4c4a7707f2201576099",
    "collapsed": true
   },
   "outputs": [],
   "source": [
    "import hashlib\n",
    "import os\n",
    "''' I have made this simple class to save the data i am getting from query, So that If I\n",
    "Ever Run this program again I dont have to use my quota but get it directly from the\n",
    "place where I have saved it... :##'''\n",
    "class DataSaver:\n",
    "    def __init__(self, bq_assistant):\n",
    "        self.bq_assistant=bq_assistant\n",
    "        \n",
    "    def Run_Query(self, query, max_gb_scanned=1):\n",
    "        hashed_query=''.join(query.split()).encode(\"ascii\",\"ignore\")\n",
    "        query_hash=hashlib.md5(hashed_query).hexdigest()\n",
    "        query_hash+=\".csv\"\n",
    "        if query_hash in os.listdir(os.getcwd()):\n",
    "            print (\"Data Already present getting it from file\")\n",
    "            return pd.read_csv(query_hash)\n",
    "        else:\n",
    "            data=self.bq_assistant.query_to_pandas_safe(query, max_gb_scanned=max_gb_scanned)\n",
    "            data.to_csv(query_hash, index=False,encoding='utf-8')\n",
    "            return data"
   ]
  },
  {
   "cell_type": "code",
   "execution_count": null,
   "metadata": {
    "_cell_guid": "f96f72ad-e684-4313-ab37-653fa78bbc8e",
    "_kg_hide-input": true,
    "_uuid": "a847a4d61486cb85d98389f8b32c7d0b84e843ca",
    "collapsed": true
   },
   "outputs": [],
   "source": [
    "import time\n",
    "start_time=time.time()\n",
    "import numpy as np\n",
    "import operator\n",
    "from collections import Counter\n",
    "import pandas as pd \n",
    "from wordcloud import WordCloud, STOPWORDS\n",
    "import matplotlib.pyplot as plt\n",
    "from plotly import __version__\n",
    "from plotly.offline import download_plotlyjs, init_notebook_mode, plot, iplot\n",
    "import plotly as py\n",
    "import plotly.graph_objs as go\n",
    "init_notebook_mode(connected=True)\n",
    "plt.rcParams['figure.figsize']=(12,5)\n",
    "import numpy as np\n",
    "import operator\n",
    "import pandas as pd \n",
    "from wordcloud import WordCloud, STOPWORDS\n",
    "import matplotlib.pyplot as plt\n",
    "from plotly import __version__\n",
    "from plotly.offline import download_plotlyjs, init_notebook_mode, plot, iplot\n",
    "import plotly as py\n",
    "import plotly.graph_objs as go\n",
    "init_notebook_mode(connected=True)\n",
    "plt.rcParams['figure.figsize']=(12,5)\n",
    "from google.cloud import bigquery\n",
    "from bq_helper import BigQueryHelper\n",
    "client = bigquery.Client()\n",
    "bq_assistant = BigQueryHelper(\"bigquery-public-data\", \"bitcoin_blockchain\")\n",
    "def satoshi_to_bitcoin(satoshi):\n",
    "    return float(float(satoshi)/ float(100000000))\n",
    "test_data=bq_assistant.head(\"transactions\")\n",
    "\n",
    "\n",
    "bq=DataSaver(bq_assistant)\n",
    "\n",
    "\n",
    "def Create_Bar_plotly(list_of_tuples, items_to_show=40, title=\"\"):\n",
    "    #list_of_tuples=list_of_tuples[:items_to_show]\n",
    "    data = [go.Bar(\n",
    "            x=[val[0] for val in list_of_tuples],\n",
    "            y=[val[1] for val in list_of_tuples]\n",
    "    )]\n",
    "    layout = go.Layout(\n",
    "    title=title,xaxis=dict(\n",
    "        autotick=False,\n",
    "        tickangle=290 ),)\n",
    "    fig = go.Figure(data=data, layout=layout)\n",
    "    py.offline.iplot(fig)"
   ]
  },
  {
   "cell_type": "markdown",
   "metadata": {
    "_cell_guid": "673cd3e4-adf5-4d66-8dd0-1c867b4283dc",
    "_uuid": "e40b471f46596c1c5a399f06146f107da0e71cc4"
   },
   "source": [
    "\n",
    "## So Bitcoins were pretty difficult to understand at first but while digging deep into it it seems quite simple. \n",
    "<br>\n",
    "### So in this notebook we will first learn about bitcoins and their workings, then try to find out some interesting insights from it.\n",
    "### In case you already know about bitcoin transactions you can click through hyperlink and go directly to visualizations.\n",
    "## CONTENTS\n",
    "<b><a href='#1'>1:  Wallets</a></b>\n",
    "<br>\n",
    "<b><a href='#2'>2:  Transactions</a></b><br>\n",
    "<b> &nbsp;&nbsp;  <a href='#2.2'>2.2: Transaction In a nutshell</a></b><br>\n",
    "<b> &nbsp;&nbsp;  <a href='#2.3'>2.3: Sample Transaction</a></b><br>\n",
    "<b> &nbsp;&nbsp;  <a href='#2.4'>2.4: Security in Transaction</a></b><br>\n",
    "<b>&nbsp;&nbsp;&nbsp;&nbsp;&nbsp;&nbsp;&nbsp;<a href='#2.4.1'>2.4.1: Short Description</a></b><br>\n",
    "<b>&nbsp;&nbsp;&nbsp;&nbsp;&nbsp;&nbsp;&nbsp;<a href='#2.4.2'>2.4.2: Long Description</a></b>\n",
    "<br>\n",
    "<b><a href='#3'>3: Visualizations</a></b><br>\n",
    "<b>&nbsp;&nbsp;<a href='#3.1'>3.1: Who have the most number of Bitcoins.</a></b><br>\n",
    "<b>&nbsp;&nbsp;<a href='#3.2'>3.2: TimeSeries For Highest Valued Transactions</a></b><br>\n",
    "<b>&nbsp;&nbsp;<a href='#3.3'>3.3: Average Highest value transaction per year</a></b><br>\n",
    "<b>&nbsp;&nbsp;<a href='#3.4'>3.4: Bar Chart for top transaction counts per year</a></b><br>\n",
    "<b>&nbsp;&nbsp;<a href='#3.5'>3.5: Guess who got rich in 2018??</a></b><br>\n",
    "<b>&nbsp;&nbsp;<a href='#3.6'>3.6: Average number BITCOINS transacted per day</a></b><br>\n",
    "<b>&nbsp;&nbsp;&nbsp;&nbsp;&nbsp;&nbsp;&nbsp;<a href='#3.6.1'>3.6.1: Time Series for avg no of bitcoins transacted per day</a></b><br>\n",
    "<b>&nbsp;&nbsp;<a href='#3.7'>3.7: Total number of Transactions Per day</a></b><br>\n",
    "<b>&nbsp;&nbsp;<a href='#3.8'>3.8: Self Transactions per day (literally) (what a burden on miners)</a></b><br>\n",
    "<b>&nbsp;&nbsp;<a href='#3.9'>3.9: Who did most of the transactions</a></b><br>\n",
    "<b>&nbsp;&nbsp;<a href='#3.10'>3.10: Inactive Addresses(someone who received but never spent)</a></b><br>\n",
    "<b>&nbsp;&nbsp;&nbsp;&nbsp;&nbsp;&nbsp;&nbsp;<a href='#3.10.1'>3.10.1: Timeseries for Value of unspent outputs</a></b><br>\n",
    "<b>&nbsp;&nbsp;&nbsp;&nbsp;&nbsp;&nbsp;&nbsp;<a href='#3.10.2'>3.10.2: Unspent output value yearly</a></b><br>\n",
    "<b>&nbsp;&nbsp;&nbsp;&nbsp;&nbsp;&nbsp;&nbsp;<a href='#3.10.3'>3.10.3: 2010 Analysis</a></b>\n",
    "<br>\n",
    "<b>&nbsp;&nbsp;&nbsp;&nbsp;&nbsp;&nbsp;&nbsp;<a href='#3.10.4'>3.10.3: Total Number of bitcoins unspent (or losssssssssssssssssst)</a></b>\n",
    "<br>\n",
    "\n",
    "<b>&nbsp;&nbsp;<a href='#3.11'>3.11: Comparison of Bitcoin Transactions Prices and count with Exchange Rates</a></b><br>\n",
    "<b>&nbsp;&nbsp;&nbsp;&nbsp;&nbsp;&nbsp;<a href='#3.11.1'>3.11.1: Timeseries plot signifying the relation between the spike in bitcoin value, the number of transactions, the total bitcoins transacted per day.</a></b><br>\n",
    "<b>&nbsp;&nbsp;&nbsp;&nbsp;&nbsp;&nbsp;<a href='#3.11.2'>3.11.2: Average bitcoin price in usd to transaction counts</a></b><br>\n",
    "<b>&nbsp;&nbsp;&nbsp;&nbsp;&nbsp;&nbsp;&nbsp;&nbsp;&nbsp;<a href='#3.11.2.1'>3.11.2.1: 2012</a></b><br>\n",
    "<b>&nbsp;&nbsp;&nbsp;&nbsp;&nbsp;&nbsp;&nbsp;&nbsp;&nbsp;<a href='#3.11.2.2'>3.11.2.2: 2013</a></b><br>\n",
    "<b>&nbsp;&nbsp;&nbsp;&nbsp;&nbsp;&nbsp;&nbsp;&nbsp;&nbsp;<a href='#3.11.2.3'>3.11.2.3: 2014</a></b><br>\n",
    "<b>&nbsp;&nbsp;&nbsp;&nbsp;&nbsp;&nbsp;&nbsp;&nbsp;&nbsp;<a href='#3.11.2.4'>3.11.2.4: 2015</a></b><br>\n",
    "<b>&nbsp;&nbsp;&nbsp;&nbsp;&nbsp;&nbsp;&nbsp;&nbsp;&nbsp;<a href='#3.11.2.5'>3.11.2.5: 2016</a></b><br>\n",
    "<b>&nbsp;&nbsp;&nbsp;&nbsp;&nbsp;&nbsp;&nbsp;&nbsp;&nbsp;<a href='#3.11.2.6'>3.11.2.6: 2017</a></b><br>\n",
    "\n",
    "\n",
    "\n",
    "<b>&nbsp;&nbsp;&nbsp;&nbsp;&nbsp;&nbsp;<a href='#3.11.3'>3.11.3: Number of bitcoins transacted with the average bitcoin value in USD</a></b><br>\n",
    "<b>&nbsp;&nbsp;&nbsp;&nbsp;&nbsp;&nbsp;&nbsp;&nbsp;&nbsp;<a href='#3.11.3.1'>3.11.3.1: 2012</a></b><br>\n",
    "<b>&nbsp;&nbsp;&nbsp;&nbsp;&nbsp;&nbsp;&nbsp;&nbsp;&nbsp;<a href='#3.11.3.2'>3.11.3.2: 2013</a></b><br>\n",
    "<b>&nbsp;&nbsp;&nbsp;&nbsp;&nbsp;&nbsp;&nbsp;&nbsp;&nbsp;<a href='#3.11.3.3'>3.11.3.3: 2014</a></b><br>\n",
    "<b>&nbsp;&nbsp;&nbsp;&nbsp;&nbsp;&nbsp;&nbsp;&nbsp;&nbsp;<a href='#3.11.3.4'>3.11.3.4: 2015</a></b><br>\n",
    "<b>&nbsp;&nbsp;&nbsp;&nbsp;&nbsp;&nbsp;&nbsp;&nbsp;&nbsp;<a href='#3.11.3.5'>3.11.3.5: 2016</a></b><br>\n",
    "<b>&nbsp;&nbsp;&nbsp;&nbsp;&nbsp;&nbsp;&nbsp;&nbsp;&nbsp;<a href='#3.11.3.6'>3.11.3.6: 2017</a></b><br>\n",
    "<br>\n",
    "\n",
    "\n",
    "\n",
    "\n",
    "\n",
    "<br>\n",
    "<br>\n",
    "<a id='1'></a>\n",
    "## Wallets:\n",
    "<br>\n",
    "Concept of Wallets are quite simple, Basically lets say you have 100 dollars note. Where you will put it?, in a wallet right, just like that in Bitcoin wallets you put bitcoins but difference is that bitcoin wallet is digital.\n",
    "<br>\n",
    "\n",
    "But there is a problem, How can you ensure that ONLY you can access 100 dollar note in your wallet and no one else. \n",
    "\n",
    "<b> To solve the above mentioned problem lets start from the beginning and see  how bitcoin wallet is created. </b>\n",
    "<br>\n",
    "\n",
    "\n",
    "<b> How you got to the address, your public bitcoin address.</b>\n",
    "<br>\n",
    "<b> How a wallet is created?</b>\n",
    "<br>\n",
    "Lets understand how a wallet is created and how it ensures that only you have access to the bitcoins you have\n",
    "<br>\n",
    "Here are three keywords you need to remember Private_key, Public_key, and Bitcoin_address.\n",
    "\n",
    "\n",
    "<b>Step 1:</b>\n",
    "<br>\n",
    "First of all you get a fixed length of random characters its called PRIVATE_KEY. You need to keep it hidden and dont have to give it to anyone else.  \n",
    "<br>\n",
    "<br>\n",
    "<b> Step 2:</b>\n",
    "<br>\n",
    "Now that you have a private key what you need to do is pass this private_key to a function. This is a special function which will give you a new key, lets name it Public Key.  \n",
    "<br>\n",
    "<br>\n",
    "public_key=FUNCTION(private_key)\n",
    "\n",
    "We will skip how a function is implemented. To know how it is implemented we need to understand cry.\n",
    "\n",
    "<br>\n",
    "But the point to notice is that it is a <b>one way function</b> and there is no practical way to get  private_key from public key.\n",
    "<br>\n",
    "\n",
    "<b> Step 3</b>\n",
    "<br>\n",
    "Now that you have two things <b>Private_key</b> and <b>public_key</b>.\n",
    "What we will do now is pass the public_key to another function which gives us another key. Lets name it <b>address</b>.\n",
    "<br>\n",
    "<b> ADDRESS= Some_other_function(public_key)</b>\n",
    "\n",
    "Now Address is something that you can give to anyone.\n",
    "If you want anyone to transfer some money intor your wallet  you will provide him this ADDRESS.\n",
    "\n",
    "What wallet stores is your private_address and unspent outputs, we will undertand the unspent outputs in the next section.\n",
    "\n",
    "Now the question which arises over here how can we use private_key, public_key and address to transfer money and ensure safety of your wallet.\n",
    "\n",
    "<b>Summary</b><br>\n",
    "So here are few points if you missed anything, you had a private key: a random characters of fixed length, you passed it to a function to get a public key which was passed again to a function to get address. These functions are one way function which means if\n",
    "a=function(b)\n",
    "then there is no practical way to find <b>b</b> if you know <b>a</b>.\n",
    "<br>\n",
    "<br>\n",
    "<br>\n",
    "<br>\n",
    "<a id='2'></a>\n",
    "## Transactions:\n",
    "<br>\n",
    "In this section we will understand how is bitcoins put in a wallet and how can only the wallet holder spends it and how it is transferred.\n",
    "<a id='2.1'></a>\n",
    "### How transaction works in a NUTSHELL?\n",
    "In transactions there is a concept of input and outputs. \n",
    "\n",
    "In bitcoins each transaction have a number of inputs and outputs.\n",
    "In this scenario there are three people: IBAD, READER(you) and amazon\n",
    "\n",
    "Now lets say you want to buy a nice watch. \n",
    "So you go to the ecommerce website and it says to transfer 1 bitcoin to their address to get a watch.\n",
    "\n",
    "So you will do is open your wallet and transfer 1 btc to Amazon (ecommerce website) to get a watch.\n",
    "\n",
    "\n",
    "Unfortunately you have no bitcoins.\n",
    "\n",
    "So you came to me and asked me to transfer 100btc to your address and you provide me your \"address\" you made in the previous section.\n",
    "RECALL:    address=Function(public_key)\n",
    "                  public_keye=Function(private key)\n",
    "                  private key= \"Random Characters of Fixed Length\" Must be kept hidden\n",
    "\n",
    "What is going to happen is this that I will write a transaction and it will look something like this. \n",
    "\n",
    "<b>TRANSACTION#1 by Ibad:</b><br>\n",
    "<b>INPUT:</b> Hey miner, I have 1000 bitcoins, Want a proof?. look at OUTPUT#2762\n",
    "\n",
    "<b><a id='output123'>OUTPUT#123:</a></b>\n",
    "Hey Miner,  This is for the reader, he can spent 100 Bitcoins\n",
    "\n",
    "<b><a id='output124'>OUTPUT#124:</a></b>\n",
    "Hey Miner, This is for ME, I must be able to spent 900 Bitcoins\n",
    "\n",
    "I had 1000 bitcoins, I transferred 100 to you, and got 900 change back to myself.\n",
    ".\n",
    "Now after writing this transaction I send it to the bitcoin network, After some times a MINER sees this transactions, Validates it(checks it) just like the banker checks your cheque for forgery and approves it. Once approved this transaction will be marked as Confirmed and you can now spend your 100 bitcoins. \n",
    "\n",
    "\n",
    "Now that you have 100 bitcoins now So you want to buy that watch from amazon so what you are going to do is write a transaction.\n",
    "\n",
    "<b>TRANSACTION#2 by READER:</b>\n",
    "<br>\n",
    "<b>INPUT:</b> Hey miner, I have 100 bitcoins, Want a proof?.  look at <a href='#output123'>OUTPUT#123</a>\n",
    "\n",
    "\n",
    "<b>OUTPUT#125: </b>\n",
    "Hey Miner, This is for the amazon, they can spend 1 Bitcoin.\n",
    "\n",
    "<b><a id='output126'>OUTPUT#126:</a></b>\n",
    "Hey Miner, This is for me(reader)(you)(as it is written by you hence i am using me), I must be able to spend 99 Bitcoins.\n",
    "\n",
    "You had 100 bitcoins you sent 1 bitcoin to amazon and got 99 back to you.\n",
    "\n",
    "#### Now  <a href='#output123'>OUTPUT#123</a>  is  SPENT OUTPUT\n",
    "\n",
    "####  <a href='#output126'>OUTPUT#126</a> is unspent output\n",
    "\n",
    "#### <a href='output124'>Output#124</a> is unspent output.\n",
    "\n",
    "\n",
    "For the next time if you want to do another transaction you will reference <a href='#output126'>Output#126</a> in your INPUT.\n",
    "\n",
    "\n",
    "\n",
    "\n",
    "<a id='2.3'></a>\n",
    "## SAMPLE TRANSACTION:\n",
    "Lets look at a sample input and sample output and lets see how they help in transactions.\n",
    "\n",
    "To make it simple assume there are two people you and me, Now you have some bitcoins with you and want to transfer some of it to me. \n",
    "\n",
    "<b>Scenario:</b> You want to transfer me <b>0.04</b> bitcoins to me.\n",
    "<br>\n",
    "You currently have: <b>0.06</b> bitcoins.\n",
    "\n",
    "\n",
    "Let take a look at sample transaction input First and understand what does it implies.\n"
   ]
  },
  {
   "cell_type": "code",
   "execution_count": null,
   "metadata": {
    "_cell_guid": "eef29855-dc1d-4c2b-b394-6386cb5972af",
    "_kg_hide-input": true,
    "_uuid": "e6e0789fc9f1d235f4b5ae4ceef3fb1b28adcab6",
    "collapsed": true
   },
   "outputs": [],
   "source": [
    "x=test_data.iloc[2].inputs[0]\n",
    "x[\"input_pubkey_base58\"]=\"1KEH32noJFb3tiBbWzLZo9nie6C4VhNP7Y\"\n",
    "print (x)\n",
    "#MODIFIED THE INPUT BECAUSE HEAD VALUE KEEPS ON CHANGING"
   ]
  },
  {
   "cell_type": "markdown",
   "metadata": {
    "_cell_guid": "76f8f4b9-6d68-4f3e-a1ee-ccb2cf3e59e5",
    "_uuid": "c06e689fc77b0d86531dd7ca54368924c350f05a"
   },
   "source": [
    "There are total of 6 properties over here, we will consider only those that are important to get the basic idea.\n",
    "The first property \"input_pubkey_base58\" is your ADDRESS which in this case is: <b>1KEH32noJFb3tiBbWzLZo9nie6C4VhNP7Y</b>\n",
    "\n",
    "The property \"input_script_string\" contains the reference to previous unspent output from where you are spending.\n",
    "\n",
    "\n",
    "inputs are just there for referencing the previous unspent outputs.\n",
    "\n",
    "Now lets look at the output for this transaction."
   ]
  },
  {
   "cell_type": "code",
   "execution_count": null,
   "metadata": {
    "_cell_guid": "3599bffb-652e-40ab-9edf-a8ccca5324ce",
    "_kg_hide-input": true,
    "_uuid": "9746dd683b35684101d5442ee5615bb555ef30fc",
    "collapsed": true
   },
   "outputs": [],
   "source": [
    "x=test_data.iloc[3].outputs[0]\n",
    "x[\"output_satoshis\"]=4000000\n",
    "x[\"output_pubkey_base58\"]=\"1bonesF1NYidcd5veLqy1RZgF4mpYJWXZ\"\n",
    "print (x)\n",
    "print (\"-\"*0)\n",
    "x[\"output_satoshis\"]=1159000\n",
    "x[\"output_pubkey_base58\"]=\"1KEH32noJFb3tiBbWzLZo9nie6C4VhNP7Y\"\n",
    "print (x)\n",
    "#MODIFIED THE INPUT BECAUSE HEAD VALUE KEEPS ON CHANGING"
   ]
  },
  {
   "cell_type": "markdown",
   "metadata": {
    "_cell_guid": "4538e071-3864-4b78-8fc5-3c5ff61da448",
    "_uuid": "958dae544e9e6196c919431ba88596690be30e41"
   },
   "source": [
    "Recall from above that your address is: 1KEH32noJFb3tiBbWzLZo9nie6C4VhNP7Y\n",
    "\n",
    "Here we can see there are two outputs.\n",
    "\n",
    "output_satoshis is the amount of bitcoins you are sending. Sathoshi is the smallest unit of bitcoin. just like cents in dollars.\n",
    "\n",
    "1 Bitcoin=100,000,000 satoshis. \n",
    "\n",
    "So the first output says to transfer 4000000 satoshis (or 0.004 bitcoins) to  address output_pubkey_base58': '1bonesF1NYidcd5veLqy1RZgF4mpYJWXZ' which is my address. \n",
    "\n",
    "\n",
    "Now the second output:\n",
    "So the second output says to transfer 1159000 satoshis (or 0.01159 bitcoins) to  address output_pubkey_base58': '1KEH32noJFb3tiBbWzLZo9nie6C4VhNP7Y' which is YOUR address. \n",
    "\n",
    "\n",
    "Heres a summary of what happened: I had 0.006 bitcoins with me, I transferred 0.004 to your account,\n",
    "Got a change of 0.001159 back to my address.\n",
    "\n",
    "But wait I should get 0.002 bitcoins back but I just got 0.001159 back, That's because the the rest of it will be counted as the transaction fees paid to the miner, In bitcoins you can set the transaction fees yourself. There is no limit on what transaction fees you set, you can set it from 0 to (total_amount - sent_amount)\n",
    "\n",
    "\n",
    "<a id='2.4'></a>\n",
    "## SECURITY IN TRANSACTION\n",
    "\n",
    "Now the most important part is: How can we ensure safety, Since all outputs and inputs are public, so anyone can write a transaction and transfer money from someone unspent output to his address. \n",
    "\n",
    "To ensure security bitcoins utilizes the concept of Digital Signatures.\n",
    "Whenever you write a transaction: the input is digitally signed:  To understand what it means take a look at this picture:\n",
    "[](https://www.cryptocompare.com/media/1284/digital_signature.png)\n",
    "\n",
    "\n",
    "If you are interested in just getting the idea of security in bitcoin you can just read the short description, if you want to get indepth detailed idea then read the long description of security in bitcoin.\n",
    "<br><br><br><br>\n",
    "<a id='2.4.1'></a>\n",
    "<br>\n",
    "<b>Short Description:</b>\n",
    "<br>\n",
    "Lets say you create a transaction to send 100 bitcoins to me, What you are going to do before sending it to miner is this that you will sign it with your private key, YOU will generate a signature with your private key, so\n",
    "Signature= Some_Function(private_key)\n",
    "\n",
    "But there one property of this signature which will help us ensure security\n",
    "Now the miner can verify the signature with your PUBLIC_KEY, \n",
    "\n",
    "isSignatureValid= Verification_function(signature, public_key)\n",
    "\n",
    "if isSignatureValid==True then the miner will validate transaction else miner will not accept the transaction.\n",
    "<br>\n",
    "<br>\n",
    "<a id='2.4.2'></a>\n",
    "<b>Long Description: </b>\n",
    "<br>\n",
    "Recall that the proof of having a bitcoin is the unspent output on your address. \n",
    "The output looks something like this:\n",
    "\n",
    "\n",
    "\n",
    "\n"
   ]
  },
  {
   "cell_type": "code",
   "execution_count": null,
   "metadata": {
    "_cell_guid": "2b713a2f-0462-4566-bb19-da84ef8866cb",
    "_uuid": "b253570042e57e6f5911095be33b251cd5790e64",
    "collapsed": true
   },
   "outputs": [],
   "source": [
    "print (test_data.iloc[2].outputs[0])"
   ]
  },
  {
   "cell_type": "markdown",
   "metadata": {
    "_cell_guid": "fdd88b95-7c59-414a-b536-ed8cef3a289b",
    "_uuid": "5fe58fa2e5e2b2f94598d28ecab6528109be0e45"
   },
   "source": [
    "Look closely there is a variable named output_script_string, this is a script, an output script which puts on the condition that only the private_key holder of the specified public_key have the rights to spend this output.\n",
    "Look at the last command <b>EQUALVERIFY CHECKSIG</b>, This checks the signature whether it matches the address or not.\n"
   ]
  },
  {
   "cell_type": "markdown",
   "metadata": {
    "_cell_guid": "266a8704-7a6c-455a-b676-2943164cd1e4",
    "_uuid": "7b4cd301aa6250d11cbf56d433828cd5077e9c55"
   },
   "source": [
    "Recall that inputs gives reference to the previous output,  In the input you will satisfy the condition put on by the output, to use it. \n",
    "\n",
    "In this way every bitcoin transaction is available to everyone to see but still its secure and immutable. "
   ]
  },
  {
   "cell_type": "markdown",
   "metadata": {
    "_cell_guid": "49d73ae9-d178-416d-a176-1c872505ff19",
    "_uuid": "b7aa44691a8a48ce25c80dbb92a8e3e257a89842"
   },
   "source": [
    "#### There are many more factors in transactions. \n",
    " https://unglueit-files.s3.amazonaws.com/ebf/05db7df4f31840f0a873d6ea14dcc28d.pdf\n",
    " #### I read few chapters of this book, It contains detailed information about how Bitcoins works.\n",
    " ## I tried to summarize the transaction and wallet chapter of this book. Do give suggestions on where I might be wrong or how can I improve my explanation. "
   ]
  },
  {
   "cell_type": "markdown",
   "metadata": {
    "_cell_guid": "c262953f-bd47-4e47-8c7e-bbfa1767efb0",
    "_uuid": "c0c10011f7c0b5a798ee09c356650c25d8f7d3b9"
   },
   "source": [
    "<a id='3'></a>\n",
    "## Now lets find something interesting\n"
   ]
  },
  {
   "cell_type": "markdown",
   "metadata": {
    "_cell_guid": "9a05d78d-d742-4939-b9a3-ba58c8d11f92",
    "_uuid": "cc46ddeb4657059340aa3f094ff2074f0bf28a6f"
   },
   "source": [
    "\n",
    "### Lets find the addresses who have the most number of bitcoins"
   ]
  },
  {
   "cell_type": "code",
   "execution_count": null,
   "metadata": {
    "_cell_guid": "f0a171d0-2432-47bb-9e79-a862f8dbc214",
    "_kg_hide-input": true,
    "_uuid": "11dc91f3dca9d1a9898b58249fa46de5aefce116",
    "collapsed": true
   },
   "outputs": [],
   "source": [
    "q = \"\"\"\n",
    "SELECT  o.output_pubkey_base58, sum(o.output_satoshis) as output_sum from \n",
    "    `bigquery-public-data.bitcoin_blockchain.transactions`JOIN\n",
    "    UNNEST(outputs) as o \n",
    "    where o.output_pubkey_base58 not in (select i.input_pubkey_base58\n",
    "    from UNNEST(inputs) as i)\n",
    "    group by o.output_pubkey_base58 order by output_sum desc limit 1000\n",
    "\"\"\"\n",
    "print (str(round((bq_assistant.estimate_query_size(q)),2))+str(\" GB\"))\n",
    "\n",
    "results2=bq.Run_Query(q, max_gb_scanned=70)\n",
    "results2[\"output_sum\"]=results2[\"output_sum\"].apply(lambda x: float(x/100000000))"
   ]
  },
  {
   "cell_type": "code",
   "execution_count": null,
   "metadata": {
    "_cell_guid": "8e2fb611-f1f1-45b4-9e3d-7b8907399392",
    "_kg_hide-input": true,
    "_uuid": "1a99b5b7e554f6d9f38e2df45cdfb50643fe43ce",
    "collapsed": true
   },
   "outputs": [],
   "source": [
    "import matplotlib.pyplot as plt; plt.rcdefaults()\n",
    "import numpy as np\n",
    "import matplotlib.pyplot as plt\n",
    "objects = results2[\"output_pubkey_base58\"][:10]\n",
    "y_pos = np.arange(len(objects))\n",
    "performance = results2[\"output_sum\"][:10]\n",
    "plt.bar(y_pos, performance, align='center', alpha=0.5)\n",
    "plt.xticks(y_pos, objects, rotation=90)\n",
    "plt.ylabel('Bitcoins')\n",
    "plt.title('Bitcoins Addresses Who received Most number of bitcoins')\n",
    "plt.show()"
   ]
  },
  {
   "cell_type": "markdown",
   "metadata": {
    "_cell_guid": "86435d00-5dc3-45e1-88d7-f8ff4bcd950f",
    "_uuid": "85d569fa56fd2f688d6ef2ae0f24c54b2c499de1"
   },
   "source": [
    "<a id='3.1'></a>\n",
    "## The most number of bitcoins someone got in just ONE transactions.\n",
    "### To do this what we are going to do is we will find out top1000 outputs from the data sorted by the amount of bitcoins transacted in a single output."
   ]
  },
  {
   "cell_type": "code",
   "execution_count": null,
   "metadata": {
    "_cell_guid": "be14b7b4-ccf9-41e2-92df-54a47a5933c3",
    "_kg_hide-input": false,
    "_uuid": "b92a71b8b339bad72ef7a912a2d3ecf6c0cd3d46",
    "collapsed": true
   },
   "outputs": [],
   "source": [
    "q = \"\"\"\n",
    "SELECT  TIMESTAMP_MILLIS((timestamp - MOD(timestamp,\n",
    "          86400000))) AS day,o.output_pubkey_base58, o.output_satoshis as output_max from \n",
    "    `bigquery-public-data.bitcoin_blockchain.transactions`JOIN\n",
    "    UNNEST(outputs) as o order by output_max desc limit 1000\n",
    "\"\"\"\n",
    "print (str(round((bq_assistant.estimate_query_size(q)),2))+str(\" GB\"))\n",
    "results3=bq.Run_Query(q, max_gb_scanned=56)\n",
    "\n",
    "#CONVERT SATOSHIS TO BITCOINS\n",
    "results3[\"output_max\"]=results3[\"output_max\"].apply(lambda x: float(x/100000000))\n",
    "results3.head()"
   ]
  },
  {
   "cell_type": "markdown",
   "metadata": {
    "_cell_guid": "237b5b7b-74f6-435d-ad6a-161e89d2c2e9",
    "_uuid": "e748f4d1a5f67825b3173aa6cb412ce62a588dc5"
   },
   "source": [
    "### On 16th December 2011  \"1M8s2S5bgAzSSzVTeL7zruvMPLvzSkEAuv\".        This address received 500000 bitcoins IN A SINGLE TRANSACTION !!! What a lucky person..."
   ]
  },
  {
   "cell_type": "markdown",
   "metadata": {
    "_cell_guid": "97fc740c-8672-4003-a35e-31d1a5b0a1b1",
    "_uuid": "0c36b33498ca31ea41f376a9c209089a95736996"
   },
   "source": [
    "<a id='3.2'></a>\n",
    "## Lets find out the timeseries plot for highest valued transactions."
   ]
  },
  {
   "cell_type": "code",
   "execution_count": null,
   "metadata": {
    "_cell_guid": "658879df-f97b-4bc5-8eaf-b6c4fdb0a88d",
    "_kg_hide-input": false,
    "_uuid": "45b85ede09abf207b24177265ad9daac00f1b68c",
    "collapsed": true
   },
   "outputs": [],
   "source": [
    "results4=results3.sort_values(by=\"day\")\n",
    "layout = go.Layout(title=\"Time Series of Highest single output transaction\")\n",
    "data = [go.Scatter(x=results4.day, y=results4.output_max)]\n",
    "fig = go.Figure(data=data, layout=layout)\n",
    "py.offline.iplot(fig)"
   ]
  },
  {
   "cell_type": "markdown",
   "metadata": {
    "_cell_guid": "ab6bd1b2-db3a-4353-99a3-aab216d0cbc4",
    "_uuid": "f5205da645041f96eeb4317a9a20fd95930c3bcb"
   },
   "source": [
    "### It is quite clear that transactions of more than 100K bitcoins stopped in 2016.\n",
    "### Maybe because people were transferring using multiple transactions. (using multiple addresses to evade the eyes of hacker on their addresses)."
   ]
  },
  {
   "cell_type": "code",
   "execution_count": null,
   "metadata": {
    "_cell_guid": "a1390d29-ef6f-4be3-99e9-276075a5eb14",
    "_kg_hide-input": true,
    "_uuid": "fe9a45e4c7164c1196fe65f3e557d99249bc36b6",
    "collapsed": true
   },
   "outputs": [],
   "source": [
    "results4[\"day\"]=results4[\"day\"].apply(lambda x: x.year)\n",
    "years_output={}\n",
    "years_max_output_count={}\n",
    "for i,x in results4.iterrows():\n",
    "    if x[\"day\"] not in years_output:\n",
    "        years_output[x[\"day\"]]=[]\n",
    "    if x[\"day\"] not in years_max_output_count:\n",
    "        years_max_output_count[x[\"day\"]]=[]\n",
    "    years_output[x[\"day\"]].append(x[\"output_max\"])\n",
    "    years_max_output_count[x[\"day\"]].append(x[\"output_pubkey_base58\"])\n",
    "years_output_final={}\n",
    "for x in years_output.keys():\n",
    "    years_output_final[str(x)]=np.mean(years_output[x])\n",
    "years_max_output_count_final={}\n",
    "for x in years_max_output_count.keys():\n",
    "    years_max_output_count_final[str(x)]=len(years_max_output_count[x])"
   ]
  },
  {
   "cell_type": "markdown",
   "metadata": {
    "_cell_guid": "db29b7c0-c0a4-48d9-9b28-8cf124becafe",
    "_uuid": "ae49fefe69ccb05b37bb48af63728511bdd6db0c"
   },
   "source": [
    "<a id='3.3'></a>\n",
    "### Lets find out the average AMOUNT of transaction per year among top 1000 transactions from the data\n",
    "\n",
    "### Note that among the top1000 amount transactions the transaction with lowest amount was done on 19th September 2012!"
   ]
  },
  {
   "cell_type": "code",
   "execution_count": null,
   "metadata": {
    "_cell_guid": "8375e42a-c0fd-4ed5-8c1d-903fba998087",
    "_uuid": "c2d02a24ad58ce52f4622a2be9bad310baa8463e",
    "collapsed": true
   },
   "outputs": [],
   "source": [
    "print (results3.iloc[len(results3)-1][\"output_max\"])\n",
    "print (results3.iloc[len(results3)-1][\"day\"])"
   ]
  },
  {
   "cell_type": "code",
   "execution_count": null,
   "metadata": {
    "_cell_guid": "8f1a770e-5c70-4b8e-887b-96c76e55b478",
    "_uuid": "2785b2333cfdc5164068ab9d8fbff4ade0752ad0",
    "collapsed": true
   },
   "outputs": [],
   "source": [
    "d=Counter(years_output_final)\n",
    "d.most_common(1)\n",
    "Create_Bar_plotly(d.most_common(), title=\"Single Highest Valued Transaction Average Per Year\")"
   ]
  },
  {
   "cell_type": "markdown",
   "metadata": {
    "_cell_guid": "bd774c01-ce50-40a8-befd-a37ed9a93139",
    "_uuid": "995ce4b5cf30e1cdb6c068eace6f8cdc09708f56"
   },
   "source": [
    "<a id='3.4'></a>\n",
    "## Lets find out which year have most number of top1000 transactions."
   ]
  },
  {
   "cell_type": "code",
   "execution_count": null,
   "metadata": {
    "_cell_guid": "799afeeb-b42b-4630-a027-5a288c29d2d1",
    "_uuid": "b23abc82fb2aa6fb1f101ec45181b61d005f0f2a",
    "collapsed": true
   },
   "outputs": [],
   "source": [
    "d=Counter(years_max_output_count_final)\n",
    "Create_Bar_plotly(d.most_common(), title=\"Most number of high transaction yearwise\")"
   ]
  },
  {
   "cell_type": "markdown",
   "metadata": {
    "_cell_guid": "7b416df6-527e-4eb6-b2a3-4c64c115e90d",
    "_uuid": "425ef23ad4c206e1b7781ac19bffb1cda50be643"
   },
   "source": [
    "### This means that in 2016 there were just three transactions above 50343 Bitcoins !!!\n",
    "### Moreover in 2018 there was just one transaction above 50343, \n",
    "\n",
    "## Suprisingly in 2017, due to the high bitcoins price and its popularity there were 199 transactions that were above 50343 btc.\n",
    "\n",
    "\n",
    "### 2012 seems to have majority of top1000 transactions, followed by 2011.\n",
    "## One thing to notice that high amount transaction got quite low in 2013,2014,2015 and very low in 2016. \n",
    "\n",
    "## It seems that in 2017 when bitcoins price were topped at 20000 dollars the investors sold out their bitcoins resulting in a huge number of transactions.\n",
    "\n",
    "\n",
    "### One thing important to notice is this that among the top1000 amount transactions in bitcoin the LOWEST is 50343.455 Bitcoins that is done on 19th September 2012...."
   ]
  },
  {
   "cell_type": "markdown",
   "metadata": {
    "_cell_guid": "912e2c21-04c5-42e0-b212-b953ed69569c",
    "_uuid": "0e3939abed937fcc4c67a697e989ed750f1aed91"
   },
   "source": [
    "<a id='3.5'></a>\n",
    "### In 2018 there was just one transaction which made up to the top 1000 transactions list "
   ]
  },
  {
   "cell_type": "code",
   "execution_count": null,
   "metadata": {
    "_cell_guid": "2e535ee3-70dc-4dd6-b76b-65a8f5d96cfe",
    "_uuid": "1ec78bf1c9c7a465236d7071d29dabfbfc942fb9",
    "collapsed": true
   },
   "outputs": [],
   "source": [
    "results4[results4.day==2018]\n",
    "results3[results3.index==970]"
   ]
  },
  {
   "cell_type": "markdown",
   "metadata": {
    "_cell_guid": "97fd9ef5-3685-4ee6-bd9f-6b8db3fb4ffa",
    "_uuid": "ba8addd31e226607a20cfe4b6d750d2b2bddad91"
   },
   "source": [
    "### On 7th January 2018, someone just earned 51044 BITCOINS in just a single transaction !!!!.\n",
    "\n",
    "### Lets look at the transactions in 2010 which comes under the top1000 amount transactions."
   ]
  },
  {
   "cell_type": "code",
   "execution_count": null,
   "metadata": {
    "_cell_guid": "7632c2a9-f00d-4664-8593-680a7d412b4c",
    "_uuid": "1f1944d8d67e72216ecef84f7c50eaae983dd50b",
    "collapsed": true
   },
   "outputs": [],
   "source": [
    "results3.iloc[list(results4[results4.day==2010].index)]"
   ]
  },
  {
   "cell_type": "markdown",
   "metadata": {
    "_cell_guid": "4a66d309-338f-419f-a669-95e590290601",
    "_uuid": "9cc23f2193dd44a837affed2edcd28bf6ccf193f"
   },
   "source": [
    "### Lets look at the transactions in 2016 which comes under the top1000 amount transactions."
   ]
  },
  {
   "cell_type": "code",
   "execution_count": null,
   "metadata": {
    "_cell_guid": "d340ed28-4ecf-4541-adb5-fb7b5c8e55f1",
    "_uuid": "d313d11701e06ed482e54524cc2d2c720dd1397a",
    "collapsed": true
   },
   "outputs": [],
   "source": [
    "results3.iloc[list(results4[results4.day==2016].index)]"
   ]
  },
  {
   "cell_type": "markdown",
   "metadata": {
    "_cell_guid": "08777c92-b6db-4f6a-99dd-a2ecbd5c03d3",
    "_uuid": "77d340cb7fabe00176f5328b923eff379eaac35d"
   },
   "source": [
    "<a id='3.6'></a>\n",
    "## Lets look at the average number of bitcoins transacted per day.\n",
    "Note: This also includes the self transactions and changes etc."
   ]
  },
  {
   "cell_type": "code",
   "execution_count": null,
   "metadata": {
    "_cell_guid": "9fe16b8b-ef9b-4e8f-991f-7dcb7c3b1e5d",
    "_uuid": "b3b3d9f672c8803788627cc07adfa46558c73a62",
    "collapsed": true
   },
   "outputs": [],
   "source": [
    "q = \"\"\"\n",
    "SELECT  TIMESTAMP_MILLIS((timestamp - MOD(timestamp,\n",
    "          86400000))) AS day, avg(o.output_satoshis) as output_avg from \n",
    "    `bigquery-public-data.bitcoin_blockchain.transactions`JOIN\n",
    "    UNNEST(outputs) as o group by day order by output_avg desc\n",
    "\"\"\"\n",
    "print (str(round((bq_assistant.estimate_query_size(q)),2))+str(\" GB\"))\n",
    "\n",
    "results5=bq.Run_Query(q, max_gb_scanned=89)\n",
    "\n",
    "#CONVERT SATOSHIS TO BITCOINS\n",
    "results5[\"output_avg\"]=results5[\"output_avg\"].apply(lambda x: float(x/100000000))\n",
    "results5.head()"
   ]
  },
  {
   "cell_type": "markdown",
   "metadata": {
    "_cell_guid": "73a4833d-4f81-472b-a0fc-510363ee4563",
    "_uuid": "5d43d6ac082d291d760faf4dbe02f5b21e23be2f"
   },
   "source": [
    "<a id='3.6.1'></a>\n",
    "## Time Series showing the average number of bitcoins transacted per day"
   ]
  },
  {
   "cell_type": "code",
   "execution_count": null,
   "metadata": {
    "_cell_guid": "1560a0c5-cf61-4355-9ea8-f6fbe15cc4cf",
    "_uuid": "a10f4937235a19558515b5202f4330e8b1d9da61",
    "collapsed": true
   },
   "outputs": [],
   "source": [
    "results6=results5.sort_values(by=\"day\")\n",
    "layout = go.Layout(title=\"Time Series of AVERAGE in no of bitcoins transacted per day\")\n",
    "data = [go.Scatter(x=results6.day, y=results6.output_avg)]\n",
    "fig = go.Figure(data=data, layout=layout)\n",
    "py.offline.iplot(fig)"
   ]
  },
  {
   "cell_type": "markdown",
   "metadata": {
    "_cell_guid": "b8dff391-d3cc-41d2-896f-09009a7d0670",
    "_uuid": "faef6f0f64c0897762781f0f34e57a439e9c3cd3"
   },
   "source": [
    "### it is quite clear that with even with the increas in popularity of bitcoins in 2016 and 2017,  the average number of bitcoins transacted per day still remains less than average no of bitcoins transacted in 2010, 2011, and 2012..\n",
    "\n",
    "#### The possible reason behind could be the spike in bitcoins price.\n",
    "\n",
    "<a id='3.7'></a>\n",
    "### Now lets find out the total number of transactions per day. \n",
    "\n",
    "Note: this also includes the self transactions."
   ]
  },
  {
   "cell_type": "code",
   "execution_count": null,
   "metadata": {
    "_cell_guid": "13fda604-b0eb-4dfe-819a-546733fedbd5",
    "_kg_hide-input": true,
    "_uuid": "ddb6b7b7be4d5879027751a82588ac0942b7a417",
    "collapsed": true
   },
   "outputs": [],
   "source": [
    "q = \"\"\"\n",
    "SELECT  TIMESTAMP_MILLIS((timestamp - MOD(timestamp,\n",
    "          86400000))) AS day, count(o.output_satoshis) as counts from \n",
    "    `bigquery-public-data.bitcoin_blockchain.transactions`JOIN\n",
    "    UNNEST(outputs) as o group by day order by counts\n",
    "\"\"\"\n",
    "print (str(round((bq_assistant.estimate_query_size(q)),2))+str(\" GB\"))\n",
    "results7=bq.Run_Query(q,max_gb_scanned=180)\n",
    "results7.tail()"
   ]
  },
  {
   "cell_type": "markdown",
   "metadata": {
    "_cell_guid": "40d2fc24-9fd7-4c74-869e-8117997cfc5f",
    "_uuid": "a34caa17486feb23004ed32b772b48028c282243"
   },
   "source": [
    "#### On 2nd September 2015 there were total of 2035035 transactions in total that's highest  number of transactions per day !!. Too much load on the miners.\n",
    "#### Have a look at the timeseries  for transaction count for each day"
   ]
  },
  {
   "cell_type": "code",
   "execution_count": null,
   "metadata": {
    "_cell_guid": "f34b279b-3f73-49ba-9d91-a77cb53b96f5",
    "_uuid": "9eb36ae6f079c3a608658e645a78f2eed716f5e0",
    "collapsed": true
   },
   "outputs": [],
   "source": [
    "results7=results7.sort_values(by=\"day\")\n",
    "layout = go.Layout(title=\"Time Series of transaction COUNT in Bitcoins\")\n",
    "data = [go.Scatter(x=results7.day, y=results7.counts)]\n",
    "fig = go.Figure(data=data, layout=layout)\n",
    "py.offline.iplot(fig)"
   ]
  },
  {
   "cell_type": "markdown",
   "metadata": {
    "_cell_guid": "3b8e8f62-dcb8-4af0-9825-b3cf54a9b8e0",
    "_uuid": "23e4d4567b83245060b7a7a7ba89949564963584"
   },
   "source": []
  },
  {
   "cell_type": "markdown",
   "metadata": {
    "_cell_guid": "baee76c2-49f0-46d3-b5d8-8b26780823b0",
    "_kg_hide-input": false,
    "_uuid": "b96ba5e8d86fb1bd751600dda87209c9ae057a90"
   },
   "source": [
    "<a id='3.8'> </a>\n",
    "## SELF Transactions\n",
    "### What if you have a 1000 dollars in your account and you transferred it to your own account :D\n",
    "### That's exactly what is meant by self transactions in bitcoins. You will be surprised to know that how many self transactions were done by bitcoin holders."
   ]
  },
  {
   "cell_type": "code",
   "execution_count": null,
   "metadata": {
    "_cell_guid": "370b8e6a-c5c1-4ea4-a421-38e35e94693e",
    "_kg_hide-input": true,
    "_uuid": "6152b3cad08d6fcdf4227221e2f0d94bbf8f7bf5",
    "collapsed": true
   },
   "outputs": [],
   "source": [
    "q = \"\"\"\n",
    "SELECT  count(o.output_pubkey_base58) from\n",
    "    `bigquery-public-data.bitcoin_blockchain.transactions`JOIN\n",
    "    UNNEST(outputs)as o, UNNEST(inputs) as i where ARRAY_LENGTH(outputs)=1 and\n",
    "    ARRAY_LENGTH(inputs)=1 and i.input_pubkey_base58=o.output_pubkey_base58\n",
    "\"\"\"\n",
    "print (str(round((bq_assistant.estimate_query_size(q)),2))+str(\" GB\"))\n",
    "results9=bq.Run_Query(q, max_gb_scanned=580)\n",
    "print (results9)"
   ]
  },
  {
   "cell_type": "markdown",
   "metadata": {
    "_cell_guid": "eaaebb91-6175-405a-bfcd-4bb61b67b462",
    "_kg_hide-input": false,
    "_uuid": "28ab7103ef67a414f65f2c497b32fe9f089d6af4"
   },
   "source": [
    "## There were atleast 170352 Self transactions done by bitcoin holders !!!.\n",
    "\n",
    "### Lets find out the top1000 valued self transactions done by bitcoin holders."
   ]
  },
  {
   "cell_type": "code",
   "execution_count": null,
   "metadata": {
    "_cell_guid": "d9f4502d-bc62-494f-9cb0-c5c8e5f9858a",
    "_uuid": "e046fe30fa960f4071668eca6699a6ac21de4aa9",
    "collapsed": true
   },
   "outputs": [],
   "source": [
    "q = \"\"\"\n",
    "SELECT  TIMESTAMP_MILLIS((timestamp - MOD(timestamp,\n",
    "          86400000))) AS day,o.output_pubkey_base58 as key, o.output_satoshis as price from \n",
    "    `bigquery-public-data.bitcoin_blockchain.transactions`JOIN\n",
    "    UNNEST(outputs)as o, UNNEST(inputs) as i where ARRAY_LENGTH(outputs)=1 and\n",
    "    ARRAY_LENGTH(inputs)=1 and i.input_pubkey_base58=o.output_pubkey_base58\n",
    "    order by price desc limit 1000\n",
    "\"\"\"\n",
    "print (str(round((bq_assistant.estimate_query_size(q)),2))+str(\" GB\"))\n",
    "results9=bq.Run_Query(q, max_gb_scanned=588)\n",
    "#CONVERT SATOSHIS TO BITCOINS\n",
    "results9[\"price\"]=results9[\"price\"].apply(lambda x: float(x/100000000))\n",
    "results9.head()"
   ]
  },
  {
   "cell_type": "markdown",
   "metadata": {
    "_cell_guid": "f87ffc78-72af-427e-898d-fa3d0e331d0b",
    "_uuid": "aaa113b85f629739c15c52cfd393ab26e5f15e37"
   },
   "source": [
    "### On 29th June 2010 someone just transacted 4000 bitcoins from his own address to his own address.\n",
    "\n",
    "\n",
    "### Lets look at the time series graph for the top1000 priced self transactions (sending your money to your own address) (sending your money to your own account) (sending your money to your own SAME account) "
   ]
  },
  {
   "cell_type": "code",
   "execution_count": null,
   "metadata": {
    "_cell_guid": "84e44293-149d-4e1a-ace4-1950e11ca616",
    "_kg_hide-input": true,
    "_uuid": "126eb8c940b3918fd2be7aff6de7724cf2a3e886",
    "collapsed": true
   },
   "outputs": [],
   "source": [
    "results9=results9.sort_values(by=\"day\")\n",
    "layout = go.Layout(title=\"Self Transactions price by bitcoins holders TimeSeries\")\n",
    "data = [go.Scatter(x=results9.day, y=results9.price)]\n",
    "fig = go.Figure(data=data, layout=layout)\n",
    "\n",
    "py.offline.iplot(fig, image=\"png\")"
   ]
  },
  {
   "cell_type": "markdown",
   "metadata": {
    "_cell_guid": "ba08afd8-b2b5-4b1c-8b1f-2aff7bfdcde6",
    "_uuid": "43d36c55dd6594e0b7c16962de2e036e8483cdd9"
   },
   "source": [
    "<a id='3.9'></a>\n",
    "### Now lets find out who did most of the transactions"
   ]
  },
  {
   "cell_type": "code",
   "execution_count": null,
   "metadata": {
    "_cell_guid": "2ae3f831-021e-4789-894e-31dc772f0d4e",
    "_uuid": "2460d2c16605da57576bda6f212f8262619f1151",
    "collapsed": true
   },
   "outputs": [],
   "source": [
    "QUERY = \"\"\"\n",
    "SELECT\n",
    "    inputs.input_pubkey_base58 AS input_key, count(*)\n",
    "FROM `bigquery-public-data.bitcoin_blockchain.transactions`\n",
    "    JOIN UNNEST (inputs) AS inputs\n",
    "WHERE inputs.input_pubkey_base58 IS NOT NULL\n",
    "GROUP BY inputs.input_pubkey_base58 order by count(*) desc limit 1000\n",
    "\"\"\"\n",
    "bq_assistant.estimate_query_size(QUERY)\n",
    "ndf=bq.Run_Query(QUERY, max_gb_scanned=238)\n"
   ]
  },
  {
   "cell_type": "code",
   "execution_count": null,
   "metadata": {
    "_cell_guid": "83201c9c-47c0-4637-a027-3bed3655d059",
    "_kg_hide-input": true,
    "_uuid": "26996b931e125aade259d95e4187a692745864c6",
    "collapsed": true
   },
   "outputs": [],
   "source": [
    "import matplotlib.pyplot as plt; plt.rcdefaults()\n",
    "import numpy as np\n",
    "import matplotlib.pyplot as plt\n",
    "objects = ndf[\"input_key\"][:10]\n",
    "y_pos = np.arange(len(objects))\n",
    "performance = ndf[\"f0_\"][:10] \n",
    "plt.bar(y_pos, performance, align='center', alpha=0.5)\n",
    "plt.xticks(y_pos, objects, rotation=90)\n",
    "plt.ylabel('Number of transactions')\n",
    "plt.title('BITCOIN ADDRESSES WITH MOST NUMBER OF TRANSACTIONS')\n",
    "plt.show()"
   ]
  },
  {
   "cell_type": "code",
   "execution_count": null,
   "metadata": {
    "_cell_guid": "a99ecd82-4a60-4f73-a337-01c3121a2e82",
    "_uuid": "bd15d094b4098634fa5d08ef709b21f589e03784",
    "collapsed": true
   },
   "outputs": [],
   "source": [
    "ndf.iloc[0]"
   ]
  },
  {
   "cell_type": "markdown",
   "metadata": {
    "_cell_guid": "667afea4-c414-494e-9a1b-05888b0213a6",
    "_uuid": "7815407efb4dc8c5b5b62b6197674c55e7cf4eb9"
   },
   "source": [
    "<b> The highest number of transactions was 1893290 done by the above mentioned address.</b>"
   ]
  },
  {
   "cell_type": "markdown",
   "metadata": {
    "_cell_guid": "99bf1c1e-d417-4c1b-a3d0-05b78daa26f8",
    "_uuid": "c867ae1dcdb12106b265f5671c0b6a014eddda08"
   },
   "source": [
    "<a id='3.10'></a>\n",
    "## Inactive Addresses: As suggested in comments:\n",
    "#### There are some wallets which received some money but never did any of the transactions, \n",
    "#### Here is a concept of bitcoins lost wallets:\n",
    "#### lets say you hold a bitcoin wallet, which means you have a private key and a public key. Now assume that you somehow lost your private key. Now all of the bitcoins you have will be gone foreover and NO-ONE can recover them in any case.\n",
    "#### In this visualization we will analyze the addresses of bitcoin which received some bitcoin but never used them.\n",
    "## OR more precisely the outputs which were never referenced by another input.\n",
    "\n",
    "Note: something given over here is just the analysis from the data given, In bitcoins if there is no condition in the output_script_string then anyone can validate it. Moreover You can look at the query and please do tell me if I am making any mistake in query."
   ]
  },
  {
   "cell_type": "code",
   "execution_count": null,
   "metadata": {
    "_cell_guid": "02e29893-dc2e-4258-9174-24b134714f4d",
    "_kg_hide-input": true,
    "_uuid": "48dd9d8332eda84cbb29b77e460d6687c4a2cbe0",
    "collapsed": true
   },
   "outputs": [],
   "source": [
    "q = \"\"\"\n",
    "SELECT  TIMESTAMP_MILLIS((timestamp - MOD(timestamp,\n",
    "          86400000))) AS day,o.output_pubkey_base58, o.output_satoshis as output_max from \n",
    "    `bigquery-public-data.bitcoin_blockchain.transactions`JOIN\n",
    "    UNNEST(outputs) as o\n",
    "    where o.output_pubkey_base58 not in \n",
    "    (\n",
    "    select i.input_pubkey_base58 from \n",
    "    `bigquery-public-data.bitcoin_blockchain.transactions`,\n",
    "    UNNEST(inputs) as i where i.input_pubkey_base58 is not null\n",
    "    )\n",
    "    order by output_max desc limit 10000\n",
    "\"\"\"\n",
    "print (str(round((bq_assistant.estimate_query_size(q)),2))+str(\" GB\"))\n",
    "inactive_wallets=bq.Run_Query(q, max_gb_scanned=69)\n",
    "inactive_wallets[\"output_max\"]=inactive_wallets[\"output_max\"].apply(lambda x: float(x/100000000))\n"
   ]
  },
  {
   "cell_type": "markdown",
   "metadata": {
    "_cell_guid": "110fc4c4-dd28-4f0c-95a2-3cbf78ee5338",
    "_uuid": "ca643980c6fa3b29ed58415a7a6820afe06839a4"
   },
   "source": [
    "<a id=3.10.1></a>\n",
    "### Lets find out the value of unspent outputs with the passage of time"
   ]
  },
  {
   "cell_type": "code",
   "execution_count": null,
   "metadata": {
    "_cell_guid": "7169ac8f-f6cf-4059-8079-38992901e319",
    "_uuid": "7df4d2c79ef3db67c4e80d3beccede4c1f846ea8",
    "collapsed": true
   },
   "outputs": [],
   "source": [
    "inactive_wallets_2=inactive_wallets.sort_values(by=\"day\")\n",
    "layout = go.Layout(title=\"Value of unspent outputs with respect to time\")\n",
    "data = [go.Scatter(x=inactive_wallets_2.day, y=inactive_wallets.output_max)]\n",
    "fig = go.Figure(data=data, layout=layout)\n",
    "py.offline.iplot(fig)"
   ]
  },
  {
   "cell_type": "markdown",
   "metadata": {
    "_cell_guid": "b78be135-1df6-4db2-8a6c-9544144e55a7",
    "_uuid": "bfd9406039dbdc19eda7aaee8ff210808862849c"
   },
   "source": [
    "<a id=3.10.2></a>\n",
    "### How many outputs were there which are not spent yearly??\n",
    "### Lets find out."
   ]
  },
  {
   "cell_type": "code",
   "execution_count": null,
   "metadata": {
    "_cell_guid": "d8c1019b-04bd-47c2-a55d-569dc6c5e312",
    "_kg_hide-input": true,
    "_uuid": "0529f2f4b032ac27715cfdd4fe83ca307c8fca97",
    "collapsed": true
   },
   "outputs": [],
   "source": [
    "inactive_wallets_2[\"day\"]=inactive_wallets_2[\"day\"].apply(lambda x: x.year)\n",
    "years_outputs={}\n",
    "for i,x in inactive_wallets_2.iterrows():\n",
    "    if x[\"day\"] not in years_outputs:\n",
    "        years_outputs[x[\"day\"]]=0\n",
    "    years_outputs[x[\"day\"]]+=1\n",
    "years=Counter(years_outputs)\n",
    "Create_Bar_plotly(years.most_common(),title=\"Count of outputs never spent with respect to year\")"
   ]
  },
  {
   "cell_type": "code",
   "execution_count": null,
   "metadata": {
    "_cell_guid": "271d8636-d2e3-41f4-80e4-2681cae5d20d",
    "_kg_hide-input": true,
    "_uuid": "3220c0753783bcc87808d2f84c8557d4564cb7c5",
    "collapsed": true
   },
   "outputs": [],
   "source": [
    "yearly_unspent={}\n",
    "for i,x in inactive_wallets_2.iterrows():\n",
    "    if x[\"day\"] not in yearly_unspent:\n",
    "        yearly_unspent[x[\"day\"]]={}\n",
    "    if x[\"output_pubkey_base58\"] not in yearly_unspent[x[\"day\"]]:\n",
    "        yearly_unspent[x[\"day\"]][x[\"output_pubkey_base58\"]]=0    \n",
    "    yearly_unspent[x[\"day\"]][x[\"output_pubkey_base58\"]]+=x[\"output_max\"]"
   ]
  },
  {
   "cell_type": "markdown",
   "metadata": {
    "_cell_guid": "08435d1e-9a95-499c-9565-1d17a0126371",
    "_uuid": "9e6ddd7fa4f54f91bcb7daa1cb6144ed9c2c758a"
   },
   "source": [
    "<a id=3.10.3></a>\n",
    "### These 5 addresses received more than 1k bitcoins but NEVER spent it "
   ]
  },
  {
   "cell_type": "code",
   "execution_count": null,
   "metadata": {
    "_cell_guid": "9646e490-708c-4c24-8c0b-f0761d48f8d9",
    "_uuid": "3d0d933d241baab612dac66ee96123454340f48a",
    "collapsed": true
   },
   "outputs": [],
   "source": [
    "yearly=Counter(yearly_unspent[2010])\n",
    "yearly.most_common()"
   ]
  },
  {
   "cell_type": "markdown",
   "metadata": {
    "_cell_guid": "91267919-53ad-4cac-8754-c44d8b629b14",
    "_uuid": "6c4f2a12abe813f946a2e27c8a3b83d568ddc95f"
   },
   "source": [
    "<a id=3.10.4></a>\n",
    "### Lets find out the number of bitocins which are NEVER spent, the amount of bitcoins received by the addresses but never spent on anything."
   ]
  },
  {
   "cell_type": "code",
   "execution_count": null,
   "metadata": {
    "_cell_guid": "766efb4d-1d2b-46b5-8b9f-e2c4439a967e",
    "_uuid": "dddaf6c3ebc95ee298e63c5bf4785beaf7510554",
    "collapsed": true
   },
   "outputs": [],
   "source": [
    "np.sum(inactive_wallets[\"output_max\"])"
   ]
  },
  {
   "cell_type": "markdown",
   "metadata": {
    "_cell_guid": "e47c1c82-3000-44a0-8d1c-bd36c406cca2",
    "_uuid": "614920ffb45bdf215e93d021e82602bb53bd6e03"
   },
   "source": [
    "<a id='3.11'></a>\n",
    "## Let us look at the data of bitcoin prices from 2012 to 2018"
   ]
  },
  {
   "cell_type": "code",
   "execution_count": null,
   "metadata": {
    "_cell_guid": "e79b6a69-c752-4ef1-b4c0-d95658c896dd",
    "_uuid": "0d3fcbe53381ffb44a402a5305d9699f9391a9cc",
    "collapsed": true
   },
   "outputs": [],
   "source": [
    "data_f=pd.read_csv(\"../input/bitstampUSD_1-min_data_2012-01-01_to_2018-03-27.csv\")\n",
    "data_f[\"Timestamp\"]=pd.to_datetime(data_f[\"Timestamp\"], unit='s')\n",
    "data_f.Timestamp=data_f.Timestamp.apply(lambda x: x.replace(hour=0, minute=0, second=0))\n",
    "data_f=data_f[[\"Timestamp\", \"Weighted_Price\"]]\n",
    "data_f=data_f.drop_duplicates(keep=\"first\")\n",
    "data_f=data_f.drop_duplicates(subset='Timestamp', keep=\"last\")\n",
    "data_f.head()"
   ]
  },
  {
   "cell_type": "code",
   "execution_count": null,
   "metadata": {
    "_cell_guid": "efaf6e70-9ddd-4188-a1c2-da0224793177",
    "_uuid": "e5264299e4611878173022f61403176123bbd29d",
    "collapsed": true
   },
   "outputs": [],
   "source": [
    "import time\n",
    "\n",
    "import numpy as np\n",
    "import operator\n",
    "from collections import Counter\n",
    "import pandas as pd \n",
    "from wordcloud import WordCloud, STOPWORDS\n",
    "import numpy as np\n",
    "import operator\n",
    "import pandas as pd \n",
    "from wordcloud import WordCloud, STOPWORDS\n",
    "import matplotlib.pyplot as plt\n",
    "%matplotlib inline\n",
    "import seaborn as sns\n",
    "plt.style.use('fivethirtyeight')"
   ]
  },
  {
   "cell_type": "markdown",
   "metadata": {
    "_cell_guid": "05251f23-a7ba-44f4-bbae-5d09c02e18d3",
    "_uuid": "d2ba9b1856a937fb39246f12686e535705d493d1"
   },
   "source": [
    "#### Lets make a query to get a total sum of bitcoins  transacted for every day."
   ]
  },
  {
   "cell_type": "code",
   "execution_count": null,
   "metadata": {
    "_cell_guid": "c104033e-06f0-4bc3-8a19-c94f257b50e5",
    "_uuid": "7a5096a8b3bf2b3898522e1b6c77985500534a3b",
    "collapsed": true
   },
   "outputs": [],
   "source": [
    "q = \"\"\"\n",
    "SELECT  TIMESTAMP_MILLIS((timestamp - MOD(timestamp,\n",
    "          86400000))) as Timestamp, sum(o.output_satoshis) as output_price from \n",
    "    `bigquery-public-data.bitcoin_blockchain.transactions`JOIN\n",
    "    UNNEST(outputs) as o group by timestamp\n",
    "\"\"\"\n",
    "print (str(round((bq_assistant.estimate_query_size(q)),2))+str(\" GB\"))\n",
    "results3=bq_assistant.query_to_pandas(q)\n",
    "results3[\"output_price\"]=results3[\"output_price\"].apply(lambda x: float(x/100000000))\n",
    "results3=results3.sort_values(by=\"Timestamp\")\n",
    "results3.head()"
   ]
  },
  {
   "cell_type": "markdown",
   "metadata": {
    "_cell_guid": "e6ba31ab-0003-4f50-9e34-ee885c2c91bf",
    "_uuid": "aa480e3c5cd0e0cfb87e0f18253bafbcd185a387"
   },
   "source": [
    "### In this query we will find the total count of transactions per day"
   ]
  },
  {
   "cell_type": "code",
   "execution_count": null,
   "metadata": {
    "_cell_guid": "d907d81c-1e81-4daa-a86d-bd8f6a23ee35",
    "_uuid": "58225fb57b2870dd1254345306b8ea610acc0ba9",
    "collapsed": true
   },
   "outputs": [],
   "source": [
    "q = \"\"\"\n",
    "SELECT  TIMESTAMP_MILLIS((timestamp - MOD(timestamp,\n",
    "          86400000))) as Timestamp , count(Timestamp) as output_count from \n",
    "    `bigquery-public-data.bitcoin_blockchain.transactions` group by timestamp\n",
    "\"\"\"\n",
    "print (str(round((bq_assistant.estimate_query_size(q)),2))+str(\" GB\"))\n",
    "transaction_count=bq_assistant.query_to_pandas(q)\n",
    "transaction_count=transaction_count.sort_values(by=\"Timestamp\")\n",
    "transaction_count.head()"
   ]
  },
  {
   "cell_type": "markdown",
   "metadata": {
    "_cell_guid": "d651dce6-441c-46d9-ab39-3b301d30d34d",
    "_uuid": "1687acd7fe842c416a28e83b960037c85bfefd51"
   },
   "source": [
    "<a id='3.11.1'></a>\n",
    "### Here comes our first plot, Timeseries plot signifying the relation between the spike in bitcoin value, the number of transactions, the total bitcoins transacted per day.\n",
    "### But there are some problems: \n",
    "### The number of bitcoins transacted per day and the total number of transactions are very different, so we have to somehow make the graph in such a manner that we can see the difference in these attributes with the passage of time.\n",
    "\n",
    "### For scaling purposes we divide the transaction counts by 6\n",
    "### Multiply the bitcoin prize by 10\n",
    "### and finally divide the number of bitcoins transacted per day by 500.\n",
    "I need your suggestions over here: Please do tell me if there is more elegant way to scale the values and what more techniques can I use to compare the change in trend."
   ]
  },
  {
   "cell_type": "code",
   "execution_count": null,
   "metadata": {
    "_cell_guid": "80f65bc1-cac5-4827-8381-648c4687d21c",
    "_uuid": "3769e0a9018b6ff36c8d7dcc3de32759c8354a52",
    "collapsed": true
   },
   "outputs": [],
   "source": [
    "import datetime\n",
    "def to_unix_time(dt):\n",
    "    epoch =  datetime.datetime.utcfromtimestamp(0)\n",
    "    return (dt - epoch).total_seconds() * 1000\n",
    "import plotly\n",
    "import plotly.offline as py\n",
    "py.init_notebook_mode(connected=True)\n",
    "import plotly.tools as tls\n",
    "import plotly.graph_objs as go\n",
    "import plotly.tools as tls\n",
    "data = [go.Scatter(x=transaction_count.Timestamp, y=transaction_count.output_count/6, name=\"transaction_count/6\"), go.Scatter(x=data_f.Timestamp,y=data_f.Weighted_Price*10, name=\"BITCOIN_PRICE*10\"),\n",
    "       go.Scatter(x=results3.Timestamp, y=results3.output_price/500, name=\"transactions price/500\")\n",
    "       \n",
    "       ]\n",
    "layout = go.Layout(\n",
    "    xaxis=dict(\n",
    "        range=[\n",
    "        to_unix_time(datetime.datetime(2012, 1, 1)),\n",
    "            to_unix_time(datetime.datetime(2018, 5, 1))]\n",
    "    )\n",
    ")\n",
    "\n",
    "fig=go.Figure(data=data, layout=layout)\n",
    "py.iplot(fig)"
   ]
  },
  {
   "cell_type": "markdown",
   "metadata": {
    "_cell_guid": "d23d0721-4ff4-4d36-a70d-ebb8e223a6b2",
    "_uuid": "928f2ebb75b61d18e5e7a7ca3706ea9b4b6fdbbe"
   },
   "source": [
    "### We can clearly see that with increase in bitcoins prize in the end of 2017, the transaction count also increased and the suprisingly transactions prize(total number of bitcoins transacted per day) remained significantly low.\n",
    "### This implies that although with the recent spike in bitcoins price the number of bitcoin transactions increased but the (number of bitcoins) transacted remained constant.\n",
    "### One more insights we can find from this plot is this that in 2016 the NUMBER OF BITCOINS transacted increased.\n",
    "### One conclusion I can make from this is that in the end of 2017, the bitcoin value spiked upto 15000 dollars, hence there were small transactions instead of bigger transactions as in 2016 and 2012"
   ]
  },
  {
   "cell_type": "code",
   "execution_count": null,
   "metadata": {
    "_cell_guid": "3a10564f-6de6-462f-962c-4ffc334552f6",
    "_kg_hide-input": true,
    "_uuid": "1cb959b56b9bf846c5f976148b1ac889b692c4a4",
    "collapsed": true
   },
   "outputs": [],
   "source": [
    "all_months=[\"\",\"January\",\"February\",\"March\",\"April\",\"May\",\"June\",\"July\",\"August\",\"September\",\"October\",\"November\",\"December\"]\n",
    "def Bitcoin_Price_avg_monthly(year):\n",
    "    new_data_f=data_f[(data_f['Timestamp']>datetime.date(year,1,1)) & (data_f['Timestamp']<datetime.date(year+1,1,1))]\n",
    "    new_data_f[\"Timestamp\"]=new_data_f.Timestamp=data_f.Timestamp.apply(lambda x: x.month)\n",
    "    \n",
    "    month_dictionary={}\n",
    "    for i,x in new_data_f.iterrows():\n",
    "        if x[\"Timestamp\"] not in month_dictionary:\n",
    "            month_dictionary[int(x[\"Timestamp\"])]=[]\n",
    "            \n",
    "        month_dictionary[int(x[\"Timestamp\"])].append(x[\"Weighted_Price\"])\n",
    "        \n",
    "    for i in month_dictionary.keys():\n",
    "        all_sum=month_dictionary[i]\n",
    "        \n",
    "        all_sum=float(sum(all_sum))/float(len(all_sum))\n",
    "        month_dictionary[i]=all_sum\n",
    "        \n",
    "    return month_dictionary\n",
    "    \n",
    "def Average_transaction_count_monthly(year, average=True,  mode=\"Price\"):\n",
    "    if mode==\"Price\":\n",
    "        new_data_ff=results3[(results3['Timestamp']>datetime.date(year,1,1)) & (transaction_count['Timestamp']<datetime.date(year+1,1,1))]\n",
    "    else:\n",
    "        new_data_ff=transaction_count[(transaction_count['Timestamp']>datetime.date(year,1,1)) & (transaction_count['Timestamp']<datetime.date(year+1,1,1))]\n",
    "    new_data_ff[\"Timestamp\"]=new_data_ff.Timestamp=transaction_count.Timestamp.apply(lambda x: x.month)\n",
    "    \n",
    "    month_dictionary={}\n",
    "    key=\"output_price\"\n",
    "    if mode!=\"Price\":\n",
    "        key=\"output_count\"\n",
    "    for i,x in new_data_ff.iterrows():\n",
    "        if x[\"Timestamp\"] not in month_dictionary:\n",
    "            month_dictionary[int(x[\"Timestamp\"])]=[]\n",
    "        month_dictionary[int(x[\"Timestamp\"])].append(x[key])\n",
    "    \n",
    "    for i in month_dictionary.keys():\n",
    "        all_sum=month_dictionary[i]\n",
    "        if not average:\n",
    "            all_sum=int(sum(all_sum))\n",
    "        else:\n",
    "            all_sum=float(sum(all_sum))/float(len(all_sum))\n",
    "        month_dictionary[i]=int(all_sum)  \n",
    "    return month_dictionary"
   ]
  },
  {
   "cell_type": "code",
   "execution_count": null,
   "metadata": {
    "_cell_guid": "039b18d4-7ec3-4113-b24b-572be040841f",
    "_kg_hide-input": true,
    "_uuid": "e78089a419752ba48ba7149f3e4db503044e93b5",
    "collapsed": true
   },
   "outputs": [],
   "source": [
    "all_months=[\"\",\"January\",\"February\",\"March\",\"April\",\"May\",\"June\",\"July\",\"August\",\"September\",\"October\",\"November\",\"December\"]\n",
    "from operator import itemgetter\n",
    "def Compare_Transaction_Price_Yearly(year, average=True, mode=\"Price\",title=\"\"):\n",
    "    title=title+\" \"+str(year)\n",
    "    new_x=Bitcoin_Price_avg_monthly(year)\n",
    "    new_x2=Average_transaction_count_monthly(year, average=average, mode=mode)\n",
    "    new_x=Counter(new_x).most_common()\n",
    "    new_x2=Counter(new_x2).most_common()\n",
    "    new_x=sorted(new_x, key=itemgetter(0))\n",
    "    new_x2=sorted(new_x2, key=itemgetter(0))\n",
    "    for i in range(0,len(new_x)):\n",
    "        x=list(new_x[i])\n",
    "        x[0]=all_months[i+1]\n",
    "        new_x[i]=tuple(x)\n",
    "        x=list(new_x2[i])\n",
    "        x[0]=all_months[i+1]\n",
    "        new_x2[i]=tuple(x)\n",
    "    \n",
    "    x0=[x[0] for x in new_x]\n",
    "    y0=[x[1] for x in new_x]\n",
    "    x1=[x[0] for x in new_x2]\n",
    "    y1=[x[1] for x in new_x2]\n",
    "    plt.figure(figsize=(12,8))\n",
    "    plt.subplot(1, 2, 1)\n",
    "    g = sns.barplot( x=x0, y=y0, palette=\"winter\")\n",
    "    plt.xticks(rotation=90)\n",
    "    plt.title('Bitcoin average Price monthly '+str(year))\n",
    "    plt.xlabel(\"Month\")\n",
    "    plt.ylabel(\"Price in USD\")\n",
    "\n",
    "    plt.subplot(1, 2, 2)\n",
    "    g = sns.barplot( x=x1, y=y1, palette=\"winter\")\n",
    "    plt.xticks(rotation=90)\n",
    "    plt.title(title)\n",
    "    plt.ylabel(\"Transaction_\"+mode)\n",
    "    plt.xlabel(\"Month\")\n",
    "    plt.tight_layout()"
   ]
  },
  {
   "cell_type": "markdown",
   "metadata": {
    "_cell_guid": "32691b10-a2be-4cc2-92df-e16029d22dcd",
    "_uuid": "56c0cf55f98078b22efe6198c584e7f2c73b4410"
   },
   "source": [
    "<a id='3.11.2'></a>\n",
    "### Lets get some more indepth analysis with respect to year\n",
    "### Lets find out the average bitcoin price in usd for 2012 and the number of transactions in 2012\n",
    "<a id='3.11.2.1'></a>"
   ]
  },
  {
   "cell_type": "code",
   "execution_count": null,
   "metadata": {
    "_cell_guid": "8b5b3281-1db5-4711-ae78-82a76ab16d04",
    "_uuid": "76cbf9a01086bf6ae654f2bb3ba311d8ee7452d7",
    "collapsed": true
   },
   "outputs": [],
   "source": [
    "import warnings\n",
    "warnings.filterwarnings(\"ignore\")\n",
    "\n",
    "Compare_Transaction_Price_Yearly(2012,average=False, mode=\"Count\", title=\"Transaction count of \")"
   ]
  },
  {
   "cell_type": "markdown",
   "metadata": {
    "_cell_guid": "356c31ec-1c5b-49b9-8215-b67ecf0853cf",
    "_uuid": "87d8f846e8b21ba9b476f9c32c07370f968d4f56"
   },
   "source": [
    "<a id='3.11.2.2'></a>\n",
    "## Similarly for 2013"
   ]
  },
  {
   "cell_type": "code",
   "execution_count": null,
   "metadata": {
    "_cell_guid": "1e210174-eb4a-4831-bf15-079edd724670",
    "_uuid": "a68c9a5a69011f481ba1c4cd7768cfab7edafed4",
    "collapsed": true
   },
   "outputs": [],
   "source": [
    "Compare_Transaction_Price_Yearly(2013,average=False, mode=\"Count\", title=\"Transaction count of \")"
   ]
  },
  {
   "cell_type": "markdown",
   "metadata": {
    "_cell_guid": "714d25f6-3605-471a-9b86-dd0ebdd81f5f",
    "_uuid": "49788df4d0b81fd74b08318b30d19859ea797e41"
   },
   "source": [
    "<a id='3.11.2.3'></a>"
   ]
  },
  {
   "cell_type": "code",
   "execution_count": null,
   "metadata": {
    "_cell_guid": "79c7732d-ab0f-4426-9355-dcf234507e85",
    "_uuid": "71bdb9f289988b4368944453f73ff317583e726f",
    "collapsed": true
   },
   "outputs": [],
   "source": [
    "Compare_Transaction_Price_Yearly(2014,average=False, mode=\"Count\", title=\"Transaction count of \")"
   ]
  },
  {
   "cell_type": "markdown",
   "metadata": {
    "_cell_guid": "1fbed67c-8ad2-4893-a883-ac771bf634bb",
    "_uuid": "c852848d8ccee4af9da0de028cca7fb66d76af50"
   },
   "source": [
    "<a id='3.11.2.4'></a>"
   ]
  },
  {
   "cell_type": "code",
   "execution_count": null,
   "metadata": {
    "_cell_guid": "14d325ce-3d40-4cb2-988a-51e7b7ba687e",
    "_uuid": "e2ea890437b3fc0c925e172ac6d9eeae602b43f6",
    "collapsed": true
   },
   "outputs": [],
   "source": [
    "Compare_Transaction_Price_Yearly(2015,average=False, mode=\"Count\", title=\"Transaction count of \")"
   ]
  },
  {
   "cell_type": "markdown",
   "metadata": {
    "_cell_guid": "20b2e262-e1fb-4902-977e-f84b71773551",
    "_uuid": "e642ceb24ddffe651dde6e761eb4d546327357ec"
   },
   "source": [
    "<a id='3.11.2.5'></a>"
   ]
  },
  {
   "cell_type": "code",
   "execution_count": null,
   "metadata": {
    "_cell_guid": "40483cca-d885-4cad-a0f9-f427eeb66b08",
    "_uuid": "a5a419b632f3f2ddbf8b9c8ac58db6592600b1f5",
    "collapsed": true
   },
   "outputs": [],
   "source": [
    "Compare_Transaction_Price_Yearly(2016,average=False, mode=\"Count\", title=\"Transaction count of \")"
   ]
  },
  {
   "cell_type": "markdown",
   "metadata": {
    "_cell_guid": "f98a8467-f12c-4822-9011-2e7ce39aad25",
    "_uuid": "c0f28a8148f5fddd3f86fd59dc5290298f91145a"
   },
   "source": [
    "<a id='3.11.2.6'></a>"
   ]
  },
  {
   "cell_type": "code",
   "execution_count": null,
   "metadata": {
    "_cell_guid": "b5bdb7ca-716e-4384-837b-4d9fc9d3e850",
    "_uuid": "dc64a3c8d1c1ab5cf0611da354ab629e8329a4aa",
    "collapsed": true
   },
   "outputs": [],
   "source": [
    "Compare_Transaction_Price_Yearly(2017,average=False, mode=\"Count\", title=\"Transaction count of \")"
   ]
  },
  {
   "cell_type": "markdown",
   "metadata": {
    "_cell_guid": "d7e809c4-0471-4657-a39b-e69362f0c417",
    "_uuid": "2261e15d2b0705a0e9dbba6d27cb3eaa92da5a82"
   },
   "source": [
    "<a id='3.11.3'></a>\n",
    "\n",
    "### Now lets find out the average no of bitcoins transacted with the average bitcoin price.\n",
    "<a id='3.11.3.1'></a>"
   ]
  },
  {
   "cell_type": "code",
   "execution_count": null,
   "metadata": {
    "_cell_guid": "bfc8824d-6c5b-4e0a-a1e7-56b7e5223ed9",
    "_uuid": "95c5d15f1a4d139ca28a431748525670e0c64233",
    "collapsed": true
   },
   "outputs": [],
   "source": [
    "Compare_Transaction_Price_Yearly(2012, mode=\"Price\", title=\"Average transaction price of \")"
   ]
  },
  {
   "cell_type": "markdown",
   "metadata": {
    "_cell_guid": "488f746c-a9a2-494e-9460-3d6386cff14a",
    "_uuid": "f9f6f64d8c7bfa96b710e6826dce09a8af9db494"
   },
   "source": [
    "<a id='3.11.3.2'></a>"
   ]
  },
  {
   "cell_type": "code",
   "execution_count": null,
   "metadata": {
    "_cell_guid": "69002455-4426-49c3-ac80-8b5f48c82cc4",
    "_uuid": "0ec0f64a99dd872ef3a56cd555b20daed3ea9853",
    "collapsed": true
   },
   "outputs": [],
   "source": [
    "Compare_Transaction_Price_Yearly(2013, mode=\"Price\", title=\"Average transaction price of \")"
   ]
  },
  {
   "cell_type": "markdown",
   "metadata": {
    "_cell_guid": "be7684d2-259d-4c2d-b690-2fe025ffef6f",
    "_uuid": "983ef2bc4e98a00535b7ff85e73a06a288ac4bd0"
   },
   "source": [
    "<a id='3.11.3.3'></a>"
   ]
  },
  {
   "cell_type": "code",
   "execution_count": null,
   "metadata": {
    "_cell_guid": "3ce56d20-053b-4bb3-800f-c0e07338985b",
    "_uuid": "e9618674b54b77865d9fd128b72ab584bf3adf62",
    "collapsed": true
   },
   "outputs": [],
   "source": [
    "Compare_Transaction_Price_Yearly(2014, mode=\"Price\", title=\"Average transaction price of \")"
   ]
  },
  {
   "cell_type": "markdown",
   "metadata": {
    "_cell_guid": "c673b4cc-8c24-4115-935a-d4da7fa90cec",
    "_uuid": "2b7dabd3155dd0ede078230a81057e714553866e"
   },
   "source": [
    "<a id='3.11.3.4'></a>"
   ]
  },
  {
   "cell_type": "code",
   "execution_count": null,
   "metadata": {
    "_cell_guid": "3837d9bf-f816-4b11-85cc-026cfaea0818",
    "_uuid": "6a232a078843c6cef3e58d45ce49b2b39cfade2f",
    "collapsed": true
   },
   "outputs": [],
   "source": [
    "Compare_Transaction_Price_Yearly(2015, mode=\"Price\", title=\"Average transaction price of \")"
   ]
  },
  {
   "cell_type": "markdown",
   "metadata": {
    "_cell_guid": "3edf2136-b7fe-478d-a05b-7a7366fae715",
    "_uuid": "7fd8a657489b3e9137ababf90d5a539189a0ebae"
   },
   "source": [
    "<a id='3.11.3.5'></a>"
   ]
  },
  {
   "cell_type": "code",
   "execution_count": null,
   "metadata": {
    "_cell_guid": "9eb23c5e-e4c3-4c24-93ea-6beb53593723",
    "_uuid": "3325f9b42ba68b1eac487963cdf26895fcc90258",
    "collapsed": true
   },
   "outputs": [],
   "source": [
    "Compare_Transaction_Price_Yearly(2016, mode=\"Price\", title=\"Average transaction price of \")"
   ]
  },
  {
   "cell_type": "markdown",
   "metadata": {
    "_cell_guid": "50de7842-f1f7-4139-93c2-bba3a64b44b9",
    "_uuid": "66171081c2a65a7168caeb78dd3eee90dd3c6bc6"
   },
   "source": [
    "<a id='3.11.3.6'></a>"
   ]
  },
  {
   "cell_type": "code",
   "execution_count": null,
   "metadata": {
    "_cell_guid": "d5322cd8-75df-4a10-b6ec-4a200630182f",
    "_uuid": "f744a3aa1f0db1e43776f10e9058c3e04d4b427f",
    "collapsed": true
   },
   "outputs": [],
   "source": [
    "\n",
    "Compare_Transaction_Price_Yearly(2017, mode=\"Price\", title=\"Average transaction price of \")"
   ]
  },
  {
   "cell_type": "markdown",
   "metadata": {
    "_cell_guid": "c18c751f-5785-4789-b9c5-e7e2e7abe1b4",
    "_uuid": "e3203f7e8fa65ee367e4bc2d18f278f50b6dc449"
   },
   "source": [
    "## Please give your feedback and do tell me I am an wrong anywhere conceptually/ logically\n",
    "## Upvote if you like it."
   ]
  },
  {
   "cell_type": "code",
   "execution_count": null,
   "metadata": {
    "_cell_guid": "4abc1080-adf7-42ad-ac91-d660dbf57148",
    "_uuid": "4a02275b0785a0bb4f104d0c4aa013cae9908475",
    "collapsed": true
   },
   "outputs": [],
   "source": [
    "end_time=time.time()\n",
    "print (\"TIME TAKEN for the kernel\")\n",
    "print (end_time-start_time)"
   ]
  }
 ],
 "metadata": {
  "kernelspec": {
   "display_name": "Python 3",
   "language": "python",
   "name": "python3"
  },
  "language_info": {
   "codemirror_mode": {
    "name": "ipython",
    "version": 3
   },
   "file_extension": ".py",
   "mimetype": "text/x-python",
   "name": "python",
   "nbconvert_exporter": "python",
   "pygments_lexer": "ipython3",
   "version": "3.7.3"
  }
 },
 "nbformat": 4,
 "nbformat_minor": 1
}
