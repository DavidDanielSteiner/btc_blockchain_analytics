{
 "cells": [
  {
   "cell_type": "code",
   "execution_count": 1,
   "metadata": {},
   "outputs": [
    {
     "name": "stdout",
     "output_type": "stream",
     "text": [
      " * Serving Flask app \"__main__\" (lazy loading)\n",
      " * Environment: production\n",
      "   WARNING: This is a development server. Do not use it in a production deployment.\n",
      "   Use a production WSGI server instead.\n",
      " * Debug mode: off\n"
     ]
    },
    {
     "name": "stderr",
     "output_type": "stream",
     "text": [
      " * Running on http://127.0.0.1:8050/ (Press CTRL+C to quit)\n",
      "127.0.0.1 - - [24/Nov/2019 18:51:14] \"GET / HTTP/1.1\" 200 -\n",
      "127.0.0.1 - - [24/Nov/2019 18:51:14] \"GET /_dash-component-suites/dash_renderer/react@16.v1_2_0m1572715925.8.6.min.js HTTP/1.1\" 200 -\n",
      "127.0.0.1 - - [24/Nov/2019 18:51:14] \"GET /_dash-component-suites/dash_renderer/react-dom@16.v1_2_0m1572715925.8.6.min.js HTTP/1.1\" 200 -\n",
      "127.0.0.1 - - [24/Nov/2019 18:51:14] \"GET /_dash-component-suites/dash_renderer/prop-types@15.v1_2_0m1572715925.7.2.min.js HTTP/1.1\" 200 -\n",
      "127.0.0.1 - - [24/Nov/2019 18:51:14] \"GET /_dash-component-suites/dash_core_components/highlight.v1_4_0m1572715931.pack.js HTTP/1.1\" 200 -\n",
      "127.0.0.1 - - [24/Nov/2019 18:51:14] \"GET /_dash-component-suites/dash_html_components/dash_html_components.v1_0_1m1572715940.min.js HTTP/1.1\" 200 -\n",
      "127.0.0.1 - - [24/Nov/2019 18:51:14] \"GET /_dash-component-suites/dash_renderer/dash_renderer.v1_2_0m1572715925.min.js HTTP/1.1\" 200 -\n",
      "127.0.0.1 - - [24/Nov/2019 18:51:14] \"GET /_dash-component-suites/dash_core_components/dash_core_components.v1_4_0m1572715931.min.js HTTP/1.1\" 200 -\n",
      "127.0.0.1 - - [24/Nov/2019 18:51:14] \"GET /_dash-layout HTTP/1.1\" 200 -\n",
      "127.0.0.1 - - [24/Nov/2019 18:51:14] \"GET /_dash-dependencies HTTP/1.1\" 200 -\n",
      "127.0.0.1 - - [24/Nov/2019 18:51:15] \"GET /_dash-component-suites/dash_core_components/async~plotlyjs.v1_4_0m1572364822.js HTTP/1.1\" 200 -\n",
      "127.0.0.1 - - [24/Nov/2019 18:51:15] \"GET /_dash-component-suites/dash_core_components/async~graph.v1_4_0m1572364822.js HTTP/1.1\" 200 -\n",
      "127.0.0.1 - - [24/Nov/2019 18:51:15] \"GET /_favicon.ico?v=1.5.1 HTTP/1.1\" 200 -\n",
      "127.0.0.1 - - [24/Nov/2019 18:51:16] \"POST /_dash-update-component HTTP/1.1\" 200 -\n",
      "127.0.0.1 - - [24/Nov/2019 18:51:19] \"POST /_dash-update-component HTTP/1.1\" 200 -\n",
      "127.0.0.1 - - [24/Nov/2019 18:51:22] \"POST /_dash-update-component HTTP/1.1\" 200 -\n",
      "127.0.0.1 - - [24/Nov/2019 18:51:24] \"POST /_dash-update-component HTTP/1.1\" 200 -\n",
      "127.0.0.1 - - [24/Nov/2019 18:51:27] \"POST /_dash-update-component HTTP/1.1\" 200 -\n",
      "127.0.0.1 - - [24/Nov/2019 18:52:19] \"POST /_dash-update-component HTTP/1.1\" 200 -\n",
      "127.0.0.1 - - [24/Nov/2019 18:52:52] \"POST /_dash-update-component HTTP/1.1\" 200 -\n",
      "127.0.0.1 - - [24/Nov/2019 18:58:47] \"POST /_dash-update-component HTTP/1.1\" 200 -\n"
     ]
    }
   ],
   "source": [
    "import dash\n",
    "import dash_core_components as dcc\n",
    "import dash_html_components as html\n",
    "import plotly.graph_objs as go\n",
    "import pandas as pd\n",
    "\n",
    "import time\n",
    "\n",
    "app = dash.Dash()\n",
    "\n",
    "daterange = pd.date_range(start='1994',end='2018',freq='W')\n",
    "\n",
    "def unixTimeMillis(dt):\n",
    "    ''' Convert datetime to unix timestamp '''\n",
    "    return int(time.mktime(dt.timetuple()))\n",
    "\n",
    "def unixToDatetime(unix):\n",
    "    ''' Convert unix timestamp to datetime. '''\n",
    "    return pd.to_datetime(unix,unit='s')\n",
    "\n",
    "def getMarks(start, end, Nth=100):\n",
    "    ''' Returns the marks for labeling. \n",
    "        Every Nth value will be used.\n",
    "    '''\n",
    "\n",
    "    result = {}\n",
    "    for i, date in enumerate(daterange):\n",
    "        if(i%Nth == 1):\n",
    "            # Append value to dict\n",
    "            result[unixTimeMillis(date)] = str(date.strftime('%Y-%m-%d'))\n",
    "\n",
    "    return result\n",
    "\n",
    "app.layout = html.Div(children=[\n",
    "    html.H1('Range Slider Testing'),\n",
    "    html.Div(\n",
    "        [\n",
    "            html.Label('From 1994 to 2018', id='time-range-label'),\n",
    "            dcc.RangeSlider(\n",
    "                id='year_slider',\n",
    "                min = unixTimeMillis(daterange.min()),\n",
    "                max = unixTimeMillis(daterange.max()),\n",
    "                value = [unixTimeMillis(daterange.min()),\n",
    "                         unixTimeMillis(daterange.max())],\n",
    "                marks=getMarks(daterange.min(),\n",
    "                            daterange.max()),\n",
    "            ),\n",
    "        ],\n",
    "        style={'margin-top': '20'}\n",
    "    ),\n",
    "    html.Hr(),\n",
    "\n",
    "    dcc.Graph(id='my-graph')\n",
    "])\n",
    "\n",
    "@app.callback(\n",
    "    dash.dependencies.Output('time-range-label', 'children'),\n",
    "    [dash.dependencies.Input('year_slider', 'value')])\n",
    "def _update_time_range_label(year_range):\n",
    "    return 'From {} to {}'.format(unixToDatetime(year_range[0]),\n",
    "                                  unixToDatetime(year_range[1]))\n",
    "\n",
    "if __name__ == '__main__':\n",
    "    app.run_server()"
   ]
  },
  {
   "cell_type": "code",
   "execution_count": null,
   "metadata": {},
   "outputs": [],
   "source": []
  }
 ],
 "metadata": {
  "kernelspec": {
   "display_name": "Python 3",
   "language": "python",
   "name": "python3"
  },
  "language_info": {
   "codemirror_mode": {
    "name": "ipython",
    "version": 3
   },
   "file_extension": ".py",
   "mimetype": "text/x-python",
   "name": "python",
   "nbconvert_exporter": "python",
   "pygments_lexer": "ipython3",
   "version": "3.7.4"
  }
 },
 "nbformat": 4,
 "nbformat_minor": 2
}
